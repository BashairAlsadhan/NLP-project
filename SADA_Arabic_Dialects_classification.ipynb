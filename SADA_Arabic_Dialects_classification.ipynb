{
  "cells": [
    {
      "cell_type": "markdown",
      "metadata": {
        "id": "HXMNBYuKQQAJ"
      },
      "source": [
        "# SADA dataset\n"
      ]
    },
    {
      "cell_type": "markdown",
      "metadata": {
        "id": "Uz9n2b-nQQAL"
      },
      "source": [
        "Arabic dialect classification remains a challenging problem in NLP due to the language's diglossic nature  and the vast linguistic variations across regions, cities, and countries. Traditional datasets for Arabic NLP often rely on text from online exchanges, such as emails and social media posts, which may not fully capture the nuances of spoken dialects. However, the introduction of SADA, a dataset sourced from TV show dialogues and provided by the Saudi Broadcasting Authority in collaboration with SDAIA, presents new opportunities for dialect analysis.\n",
        "\n",
        "\n",
        "A unique feature of SADA is its division into different domains, such as comedy and drama, which allows for a deeper understanding of how dialect is used in various contexts. This project aims to explore the performance of different classification models in out-of-domain dialect classification. Specifically, we seek to determine whether these models can generalize across different text domains by capturing dialectal patterns effectively or if their performance is restricted to the domains they are trained on. This analysis will provide valuable insights into the robustness of dialect classification models and their ability to handle real-world linguistic diversity.\n",
        "\n",
        "__[The link to the dataset.](https://www.kaggle.com/datasets/sdaiancai/sada2022)__\n",
        "\n",
        "\n"
      ]
    },
    {
      "cell_type": "markdown",
      "metadata": {
        "id": "GuXAyldLQQAM"
      },
      "source": [
        "# Exploring the data"
      ]
    },
    {
      "cell_type": "markdown",
      "metadata": {
        "id": "DHsXsB1UQQAM"
      },
      "source": [
        "The dataset is sourced from SDAIA (Saudi Data & Artificial Intelligence Authority), the following code shows that the dataset consists of 253,166 rows and 15 columns. It contains transcribed Arabic speech segments from various media genres, aiming to predict the speaker's dialect based on training data from different categories. The dataset includes metadata such as FileName, ShowName, FullFileLength, SegmentID, SegmentLength, SegmentStart, SegmentEnd, SpeakerAge, SpeakerGender, SpeakerDialect, Speaker, Environment, GroundTruthText, ProcessedText, and Category.\n",
        "\n",
        "\n",
        "\n"
      ]
    },
    {
      "cell_type": "markdown",
      "metadata": {
        "id": "Gd9BBbP2QQAN"
      },
      "source": [
        "### Load The Dataset"
      ]
    },
    {
      "cell_type": "code",
      "execution_count": null,
      "metadata": {
        "id": "QmQs6P5UQQAN",
        "outputId": "fc7f5e6f-ba8c-4dbb-b14e-67f5b09c2e9b"
      },
      "outputs": [
        {
          "name": "stdout",
          "output_type": "stream",
          "text": [
            "Columns in the dataset:\n",
            "Index(['Unnamed: 0', 'FileName', 'ShowName', 'FullFileLength', 'SegmentID',\n",
            "       'SegmentLength', 'SegmentStart', 'SegmentEnd', 'SpeakerAge',\n",
            "       'SpeakerGender', 'SpeakerDialect', 'Speaker', 'Environment',\n",
            "       'GroundTruthText', 'ProcessedText', 'Category'],\n",
            "      dtype='object')\n",
            "\n",
            "First 10 rows of the dataset:\n",
            "   Unnamed: 0                  FileName           ShowName  FullFileLength  \\\n",
            "0           0  batch_1/6k_SBA_100_0.wav  الجفاف يقتل الندى           605.3   \n",
            "1           1  batch_1/6k_SBA_100_0.wav  الجفاف يقتل الندى           605.3   \n",
            "2           2  batch_1/6k_SBA_100_0.wav  الجفاف يقتل الندى           605.3   \n",
            "3           3  batch_1/6k_SBA_100_0.wav  الجفاف يقتل الندى           605.3   \n",
            "4           4  batch_1/6k_SBA_100_0.wav  الجفاف يقتل الندى           605.3   \n",
            "5           5  batch_1/6k_SBA_100_0.wav  الجفاف يقتل الندى           605.3   \n",
            "6           6  batch_1/6k_SBA_100_0.wav  الجفاف يقتل الندى           605.3   \n",
            "7           7  batch_1/6k_SBA_100_0.wav  الجفاف يقتل الندى           605.3   \n",
            "8           8  batch_1/6k_SBA_100_0.wav  الجفاف يقتل الندى           605.3   \n",
            "9           9  batch_1/6k_SBA_100_0.wav  الجفاف يقتل الندى           605.3   \n",
            "\n",
            "                          SegmentID  SegmentLength  SegmentStart  SegmentEnd  \\\n",
            "0  6k_SBA_100_0-seg_249_720-251_840       2.120000    249.720000  251.840000   \n",
            "1  6k_SBA_100_0-seg_252_700-255_300       2.600000    252.700000  255.300000   \n",
            "2  6k_SBA_100_0-seg_256_010-258_180       2.170000    256.010000  258.180000   \n",
            "3  6k_SBA_100_0-seg_259_560-263_060       3.500000    259.560000  263.060000   \n",
            "4  6k_SBA_100_0-seg_268_150-273_700       5.550000    268.150000  273.700000   \n",
            "5  6k_SBA_100_0-seg_274_920-280_420       5.500000    274.920000  280.420000   \n",
            "6  6k_SBA_100_0-seg_284_560-288_323       3.763348    284.560000  288.323348   \n",
            "7  6k_SBA_100_0-seg_288_421-289_790       1.369271    288.420729  289.790000   \n",
            "8  6k_SBA_100_0-seg_291_140-293_380       2.240000    291.140000  293.380000   \n",
            "9  6k_SBA_100_0-seg_294_530-300_190       5.660000    294.530000  300.190000   \n",
            "\n",
            "                SpeakerAge SpeakerGender SpeakerDialect        Speaker  \\\n",
            "0  Elderly -- كبير في السن          Male          Najdi  Speaker1متحدث   \n",
            "1  Elderly -- كبير في السن          Male          Najdi  Speaker1متحدث   \n",
            "2  Elderly -- كبير في السن          Male          Najdi  Speaker2متحدث   \n",
            "3  Elderly -- كبير في السن          Male          Najdi  Speaker2متحدث   \n",
            "4  Elderly -- كبير في السن          Male          Najdi  Speaker1متحدث   \n",
            "5  Elderly -- كبير في السن          Male          Najdi  Speaker2متحدث   \n",
            "6  Elderly -- كبير في السن          Male          Najdi  Speaker1متحدث   \n",
            "7  Elderly -- كبير في السن          Male          Najdi  Speaker2متحدث   \n",
            "8  Elderly -- كبير في السن          Male          Najdi  Speaker2متحدث   \n",
            "9  Elderly -- كبير في السن          Male          Najdi  Speaker2متحدث   \n",
            "\n",
            "       Environment                                    GroundTruthText  \\\n",
            "0    Clean -- نظيف                                ووضّح كلامك يا مغيث   \n",
            "1    Clean -- نظيف                     ترى رأسي ما عاد يتحمّل ألغازك.   \n",
            "2    Clean -- نظيف                           سلامة رأسك يا أبو مسامح.   \n",
            "3  Music -- موسيقى  ما يصير يا أبو مسامح تخلّي البنت في البيت دون ...   \n",
            "4    Clean -- نظيف  ويش فيها لقعدت في البيت دون أمها ما هو ده بيت ...   \n",
            "5  Music -- موسيقى      إلّا بيت أبوها لكن لا تنسى إنّك حطّمت حياتها.   \n",
            "6  Music -- موسيقى          يبغى إنسى أنت منين تجيبلي هالكلام الفاضي.   \n",
            "7  Music -- موسيقى                                        ما هو فاضي.   \n",
            "8  Music -- موسيقى                        طردت أمها و طردت أخوها زيد.   \n",
            "9  Music -- موسيقى  وإذا قعدت في البيت في خطرٍ عليك ولا يصير تخلّي...   \n",
            "\n",
            "                                       ProcessedText Category  \n",
            "0                                 ووضح كلامك يا مغيث    درامي  \n",
            "1                       ترى راسي ما عاد يتحمل الغازك    درامي  \n",
            "2                            سلامة راسك يا ابو مسامح    درامي  \n",
            "3  ما يصير يا ابو مسامح تخلي البنت في البيت دون امها    درامي  \n",
            "4  ويش فيها لقعدت في البيت دون امها ما هو ده بيت ...    درامي  \n",
            "5          الا بيت ابوها لكن لا تنسى انك حطمت حياتها    درامي  \n",
            "6           يبغى انسى انت منين تجيبلي هالكلام الفاضي    درامي  \n",
            "7                                         ما هو فاضي    درامي  \n",
            "8                         طردت امها و طردت اخوها زيد    درامي  \n",
            "9  واذا قعدت في البيت في خطر عليك ولا يصير تخليها...    درامي  \n"
          ]
        }
      ],
      "source": [
        "import pandas as pd\n",
        "\n",
        "# Load the dataset\n",
        "file_path = \"original data\\sada_dataset.csv\"\n",
        "df = pd.read_csv(file_path)\n",
        "\n",
        "# Display column names\n",
        "print(\"Columns in the dataset:\")\n",
        "print(df.columns)\n",
        "\n",
        "# Display the first 10 rows\n",
        "print(\"\\nFirst 10 rows of the dataset:\")\n",
        "print(df.head(10))"
      ]
    },
    {
      "cell_type": "markdown",
      "metadata": {
        "id": "fwqOmEVtQQAO"
      },
      "source": [
        "### More About The Dataset"
      ]
    },
    {
      "cell_type": "code",
      "execution_count": null,
      "metadata": {
        "id": "7E6k3kgBQQAP",
        "outputId": "1e711f7f-13cd-4013-e8e0-e41825f1ba3e"
      },
      "outputs": [
        {
          "name": "stdout",
          "output_type": "stream",
          "text": [
            "Number of rows: 253166\n",
            "Number of columns: 15\n",
            "Column names: ['FileName', 'ShowName', 'FullFileLength', 'SegmentID', 'SegmentLength', 'SegmentStart', 'SegmentEnd', 'SpeakerAge', 'SpeakerGender', 'SpeakerDialect', 'Speaker', 'Environment', 'GroundTruthText', 'ProcessedText', 'Category']\n",
            "\n",
            "Category Counts:\n",
            "        Category  Count\n",
            "0         كوميدي  71782\n",
            "1          درامي  52843\n",
            "2          اطفال  42400\n",
            "3        مسابقات  39932\n",
            "4            طبخ  31847\n",
            "5         تاريخي   5721\n",
            "6        اجتماعي   3558\n",
            "7         وثائقي   2262\n",
            "8   توعوي ارشادي   1635\n",
            "9          سياحي    871\n",
            "10        ترفيهي    315\n",
            "\n",
            "Dialect Counts:\n",
            "                              Dialect  Count\n",
            "0                               Najdi  94611\n",
            "1   More than 1 speaker اكثر من متحدث  52501\n",
            "2                              Hijazi  36170\n",
            "3                             Unknown  30867\n",
            "4                             Khaliji  30320\n",
            "5                ModernStandardArabic   4302\n",
            "6                            Egyptian   2172\n",
            "7                           Levantine    966\n",
            "8                       Notapplicable    558\n",
            "9                              Yemeni    407\n",
            "10                            Shamali    146\n",
            "11                             Janubi    103\n",
            "12                           Maghrebi     41\n",
            "13                              Iraqi      2\n"
          ]
        }
      ],
      "source": [
        "\n",
        "# Remove the first index column if it exists (assuming it's unnamed and redundant)\n",
        "if df.columns[0].startswith(\"Unnamed\"):\n",
        "    df = df.iloc[:, 1:]\n",
        "\n",
        "# Count number of rows and columns\n",
        "num_rows, num_cols = df.shape\n",
        "\n",
        "# Get column names\n",
        "column_names = df.columns.tolist()\n",
        "\n",
        "# Count occurrences of each category\n",
        "category_counts = df[\"Category\"].value_counts().reset_index()\n",
        "category_counts.columns = [\"Category\", \"Count\"]\n",
        "\n",
        "# Count occurrences of each dialect\n",
        "dialect_counts = df[\"SpeakerDialect\"].value_counts().reset_index()\n",
        "dialect_counts.columns = [\"Dialect\", \"Count\"]\n",
        "\n",
        "# Print results\n",
        "print(f\"Number of rows: {num_rows}\")\n",
        "print(f\"Number of columns: {num_cols}\")\n",
        "print(f\"Column names: {column_names}\")\n",
        "\n",
        "print(\"\\nCategory Counts:\")\n",
        "print(category_counts)\n",
        "\n",
        "print(\"\\nDialect Counts:\")\n",
        "print(dialect_counts)"
      ]
    },
    {
      "cell_type": "markdown",
      "metadata": {
        "id": "LuJ344-XQQAQ"
      },
      "source": [
        "### Lets do some visualizations!"
      ]
    },
    {
      "cell_type": "markdown",
      "metadata": {
        "id": "e2WF-0fWQQAQ"
      },
      "source": [
        "For better understand of the structure and distribution of the SADA dataset, we performed a series of visualizations. These visualizations help us explore key aspects of the data, such as dialect distribution and category types. By visualizing the data, we aim to uncover potential patterns, detect any imbalances, and gain insights that can guide the preprocessing and modeling stages."
      ]
    },
    {
      "cell_type": "code",
      "execution_count": null,
      "metadata": {
        "id": "382lXLFuQQAR",
        "outputId": "3ebb3605-3e28-4c1a-c6d3-83b0480a3d12"
      },
      "outputs": [
        {
          "name": "stdout",
          "output_type": "stream",
          "text": [
            "Category                           اجتماعي  اطفال  تاريخي  ترفيهي  \\\n",
            "SpeakerDialect                                                      \n",
            "Egyptian                                38    102       0       2   \n",
            "Hijazi                                 696  17724      74     206   \n",
            "Iraqi                                    0      0       0       0   \n",
            "Janubi                                   0      3       0       0   \n",
            "Khaliji                                 82   1676    1534       0   \n",
            "Levantine                                4      5       0       0   \n",
            "Maghrebi                                 9      0       0       0   \n",
            "ModernStandardArabic                   207   1493       2       0   \n",
            "More than 1 speaker اكثر من متحدث      770  12186    1051      52   \n",
            "Najdi                                 1610   3232    2260      53   \n",
            "Notapplicable                            0      9       2       0   \n",
            "Shamali                                  0     29       0       0   \n",
            "Unknown                                142   5864     798       2   \n",
            "Yemeni                                   0     77       0       0   \n",
            "\n",
            "Category                           توعوي ارشادي  درامي  سياحي    طبخ  كوميدي  \\\n",
            "SpeakerDialect                                                                 \n",
            "Egyptian                                     12    907      0      0     676   \n",
            "Hijazi                                      101   8284    119     80    6093   \n",
            "Iraqi                                         0      0      0      0       0   \n",
            "Janubi                                        0      0      0      0      72   \n",
            "Khaliji                                       0   9318      6   3586   12152   \n",
            "Levantine                                     0    288      3      0     225   \n",
            "Maghrebi                                      0      0      0      0      26   \n",
            "ModernStandardArabic                        473    104     31      0    1183   \n",
            "More than 1 speaker اكثر من متحدث           252   7661    442   1438   16208   \n",
            "Najdi                                       687  15142    235  26537   24338   \n",
            "Notapplicable                                 2     89      0      0     450   \n",
            "Shamali                                       7      0      0      0     106   \n",
            "Unknown                                     101  10982     35    206   10058   \n",
            "Yemeni                                        0     68      0      0     195   \n",
            "\n",
            "Category                           مسابقات  وثائقي  \n",
            "SpeakerDialect                                      \n",
            "Egyptian                               435       0  \n",
            "Hijazi                                2039     754  \n",
            "Iraqi                                    2       0  \n",
            "Janubi                                  28       0  \n",
            "Khaliji                               1966       0  \n",
            "Levantine                              441       0  \n",
            "Maghrebi                                 6       0  \n",
            "ModernStandardArabic                   616     193  \n",
            "More than 1 speaker اكثر من متحدث    12430      11  \n",
            "Najdi                                19220    1297  \n",
            "Notapplicable                            6       0  \n",
            "Shamali                                  4       0  \n",
            "Unknown                               2672       7  \n",
            "Yemeni                                  67       0  \n"
          ]
        },
        {
          "data": {
            "image/png": "[encoded data removed]",
            "text/plain": [
              "<Figure size 1200x600 with 2 Axes>"
            ]
          },
          "metadata": {},
          "output_type": "display_data"
        }
      ],
      "source": [
        "import matplotlib.pyplot as plt\n",
        "import seaborn as sns\n",
        "\n",
        "\n",
        "# Create a pivot table to count occurrences of each category per dialect\n",
        "dialect_category_matrix = df.pivot_table(index=\"SpeakerDialect\", columns=\"Category\", aggfunc=\"size\", fill_value=0)\n",
        "\n",
        "# Print the matrix\n",
        "print(dialect_category_matrix)\n",
        "\n",
        "# Visualize the data using a heatmap\n",
        "plt.figure(figsize=(12, 6))\n",
        "sns.heatmap(dialect_category_matrix, annot=True, fmt=\"d\", cmap=\"Blues\", linewidths=0.5)\n",
        "plt.xlabel(\"Category\")\n",
        "plt.ylabel(\"Dialect\")\n",
        "plt.title(\"Number of Categories per Dialect\")\n",
        "plt.xticks(rotation=45)\n",
        "plt.show()\n"
      ]
    },
    {
      "cell_type": "code",
      "execution_count": null,
      "metadata": {
        "id": "wS26mru0QQAS",
        "outputId": "1e725c74-4229-40ae-eff0-b352eb868486"
      },
      "outputs": [
        {
          "data": {
            "image/png": "[encoded data removed]",
            "text/plain": [
              "<Figure size 1400x600 with 1 Axes>"
            ]
          },
          "metadata": {},
          "output_type": "display_data"
        }
      ],
      "source": [
        "# Create a pivot table to count occurrences of each category per dialect\n",
        "dialect_category_matrix = df.pivot_table(index=\"SpeakerDialect\", columns=\"Category\", aggfunc=\"size\", fill_value=0)\n",
        "\n",
        "# Convert the matrix into a long-form DataFrame for histogram plotting\n",
        "matrix_long = dialect_category_matrix.reset_index().melt(id_vars=\"SpeakerDialect\", var_name=\"Category\", value_name=\"Count\")\n",
        "\n",
        "# Define a distinct color palette for all dialects\n",
        "unique_dialects = matrix_long[\"SpeakerDialect\"].unique().tolist()  # Convert to Python list\n",
        "palette_dict = dict(zip(unique_dialects, sns.color_palette(\"tab10\", len(unique_dialects))))\n",
        "\n",
        "# Plot a stacked histogram with an explicit legend\n",
        "plt.figure(figsize=(14, 6))\n",
        "ax = sns.histplot(data=matrix_long, x=\"Category\", hue=\"SpeakerDialect\", weights=\"Count\",\n",
        "                  multiple=\"stack\", shrink=0.8, bins=len(dialect_category_matrix.columns),\n",
        "                  palette=palette_dict)\n",
        "\n",
        "# Labels and title\n",
        "plt.xlabel(\"Category\")\n",
        "plt.ylabel(\"Count\")\n",
        "plt.title(\"Distribution of Categories per Dialect (Histogram)\")\n",
        "plt.xticks(rotation=45)\n",
        "\n",
        "# Manually create a legend\n",
        "handles = [plt.Rectangle((0,0),1,1, color=palette_dict[d]) for d in unique_dialects]\n",
        "plt.legend(handles=handles, labels=[str(d) for d in unique_dialects], title=\"Dialect\", bbox_to_anchor=(1.05, 1), loc='upper left')\n",
        "\n",
        "# Show plot\n",
        "plt.show()"
      ]
    },
    {
      "cell_type": "markdown",
      "metadata": {
        "id": "gDq7nClXQQAT"
      },
      "source": [
        "both figures provide insight into how different genres are distributed across dialects. It shows that some dialects appear more frequently in specific categories, which may influence the training phase of the model"
      ]
    },
    {
      "cell_type": "code",
      "execution_count": null,
      "metadata": {
        "id": "3TfvU4LJQQAV",
        "outputId": "b9649450-b740-4c24-c73e-c3dbf7f7ec2d"
      },
      "outputs": [
        {
          "data": {
            "image/png": "[encoded data removed]",
            "text/plain": [
              "<Figure size 1000x500 with 1 Axes>"
            ]
          },
          "metadata": {},
          "output_type": "display_data"
        },
        {
          "data": {
            "image/png": "[encoded data removed]",
            "text/plain": [
              "<Figure size 1000x500 with 1 Axes>"
            ]
          },
          "metadata": {},
          "output_type": "display_data"
        }
      ],
      "source": [
        "dialect_counts = df[\"SpeakerDialect\"].value_counts().reset_index()\n",
        "dialect_counts.columns = [\"Dialect\", \"Count\"]\n",
        "\n",
        "# Plot category distribution\n",
        "plt.figure(figsize=(10, 5))\n",
        "plt.bar(category_counts[\"Category\"], category_counts[\"Count\"], color='skyblue')\n",
        "plt.xlabel(\"Category\")\n",
        "plt.ylabel(\"Count\")\n",
        "plt.title(\"Distribution of Categories in the Dataset\")\n",
        "plt.xticks(rotation=45)\n",
        "plt.show()\n",
        "\n",
        "# Plot dialect distribution\n",
        "plt.figure(figsize=(10, 5))\n",
        "plt.bar(dialect_counts[\"Dialect\"], dialect_counts[\"Count\"], color='lightcoral')\n",
        "plt.xlabel(\"Dialect\")\n",
        "plt.ylabel(\"Count\")\n",
        "plt.title(\"Distribution of Dialects in the Dataset\")\n",
        "plt.xticks(rotation=45)\n",
        "plt.show()\n"
      ]
    },
    {
      "cell_type": "markdown",
      "metadata": {
        "id": "AHYm3sO4QQAV"
      },
      "source": [
        "The dialect distribution indicates that Najdi (94,611 rows) is the most frequent dialect, followed by multi-speaker recordings (52,501 rows), Hijazi (36,170 rows), and Khaliji (30,320 rows). Other dialects such as Modern Standard Arabic, Egyptian, Levantine, Yemeni, and Maghrebi appear in much smaller proportions. The category distribution (in Figure 2) highlights that the dataset is dominated by Comedy (71,782 rows), Drama (52,843 rows), and Children’s content (42,400 rows), while some categories, like Tourism (871 rows) and Entertainment (315 rows), are underrepresented."
      ]
    },
    {
      "cell_type": "markdown",
      "metadata": {
        "id": "yssTXG4bQQAW"
      },
      "source": [
        "# Splitting and balancing the data"
      ]
    },
    {
      "cell_type": "markdown",
      "metadata": {
        "id": "87z9G2qZQQAX"
      },
      "source": [
        "mention what colomns we are interested in and mention the dialects and catogreies used and why"
      ]
    },
    {
      "cell_type": "code",
      "execution_count": null,
      "metadata": {
        "id": "RqMxq_bPQQAX",
        "outputId": "56a452f5-5488-445e-c320-67ee7bccd8ee"
      },
      "outputs": [
        {
          "data": {
            "text/html": [
              "<div>\n",
              "<style scoped>\n",
              "    .dataframe tbody tr th:only-of-type {\n",
              "        vertical-align: middle;\n",
              "    }\n",
              "\n",
              "    .dataframe tbody tr th {\n",
              "        vertical-align: top;\n",
              "    }\n",
              "\n",
              "    .dataframe thead th {\n",
              "        text-align: right;\n",
              "    }\n",
              "</style>\n",
              "<table border=\"1\" class=\"dataframe\">\n",
              "  <thead>\n",
              "    <tr style=\"text-align: right;\">\n",
              "      <th></th>\n",
              "      <th>Unnamed: 0</th>\n",
              "      <th>FileName</th>\n",
              "      <th>ShowName</th>\n",
              "      <th>FullFileLength</th>\n",
              "      <th>SegmentID</th>\n",
              "      <th>SegmentLength</th>\n",
              "      <th>SegmentStart</th>\n",
              "      <th>SegmentEnd</th>\n",
              "      <th>SpeakerAge</th>\n",
              "      <th>SpeakerGender</th>\n",
              "      <th>SpeakerDialect</th>\n",
              "      <th>Speaker</th>\n",
              "      <th>Environment</th>\n",
              "      <th>GroundTruthText</th>\n",
              "      <th>ProcessedText</th>\n",
              "      <th>Category</th>\n",
              "    </tr>\n",
              "  </thead>\n",
              "  <tbody>\n",
              "    <tr>\n",
              "      <th>187300</th>\n",
              "      <td>87747</td>\n",
              "      <td>batch_2/6k_v_SBA3_2630_0.wav</td>\n",
              "      <td>مهن</td>\n",
              "      <td>632.43</td>\n",
              "      <td>6k_v_SBA3_2630_0-seg_210_650-240_480</td>\n",
              "      <td>29.83</td>\n",
              "      <td>210.65</td>\n",
              "      <td>240.48</td>\n",
              "      <td>Adult -- بالغ</td>\n",
              "      <td>Male</td>\n",
              "      <td>Najdi</td>\n",
              "      <td>Speaker1متحدث</td>\n",
              "      <td>Music -- موسيقى</td>\n",
              "      <td>وبدينا في الفين وخمستاشر آه بداية من خدمات متن...</td>\n",
              "      <td>وبدينا في الفين وخمستاشر اه بداية من خدمات متن...</td>\n",
              "      <td>وثائقي</td>\n",
              "    </tr>\n",
              "    <tr>\n",
              "      <th>56650</th>\n",
              "      <td>212561</td>\n",
              "      <td>batch_4/6k_v_SBA_584_1.wav</td>\n",
              "      <td>طاش ما طاش</td>\n",
              "      <td>603.90</td>\n",
              "      <td>6k_v_SBA_584_1-seg_190_010-212_260</td>\n",
              "      <td>22.25</td>\n",
              "      <td>190.01</td>\n",
              "      <td>212.26</td>\n",
              "      <td>Unknown</td>\n",
              "      <td>Unknown</td>\n",
              "      <td>Unknown</td>\n",
              "      <td>Music موسيقى</td>\n",
              "      <td>Music -- موسيقى</td>\n",
              "      <td>اخويا. اخويا. اخويا اخويا الصغير، أخويا أخويا ...</td>\n",
              "      <td>اخويا اخويا اخويا اخويا الصغير اخويا اخويا اخو...</td>\n",
              "      <td>كوميدي</td>\n",
              "    </tr>\n",
              "    <tr>\n",
              "      <th>159125</th>\n",
              "      <td>199149</td>\n",
              "      <td>batch_4/6k_v_SBA_363_2.wav</td>\n",
              "      <td>حكايات بابا فرحان</td>\n",
              "      <td>603.45</td>\n",
              "      <td>6k_v_SBA_363_2-seg_599_620-603_450</td>\n",
              "      <td>3.83</td>\n",
              "      <td>599.62</td>\n",
              "      <td>603.45</td>\n",
              "      <td>More than 1 speaker اكثر من متحدث</td>\n",
              "      <td>More than 1 speaker اكثر من متحدث</td>\n",
              "      <td>More than 1 speaker اكثر من متحدث</td>\n",
              "      <td>More than 1 speaker اكثر من متحدث</td>\n",
              "      <td>Noisy -- ضوضاء</td>\n",
              "      <td>فين أم الخير أم الخير؟ أهي أم الخير</td>\n",
              "      <td>فين ام الخير ام الخير اهي ام الخير</td>\n",
              "      <td>اطفال</td>\n",
              "    </tr>\n",
              "  </tbody>\n",
              "</table>\n",
              "</div>"
            ],
            "text/plain": [
              "        Unnamed: 0                      FileName           ShowName  \\\n",
              "187300       87747  batch_2/6k_v_SBA3_2630_0.wav                مهن   \n",
              "56650       212561    batch_4/6k_v_SBA_584_1.wav         طاش ما طاش   \n",
              "159125      199149    batch_4/6k_v_SBA_363_2.wav  حكايات بابا فرحان   \n",
              "\n",
              "        FullFileLength                             SegmentID  SegmentLength  \\\n",
              "187300          632.43  6k_v_SBA3_2630_0-seg_210_650-240_480          29.83   \n",
              "56650           603.90    6k_v_SBA_584_1-seg_190_010-212_260          22.25   \n",
              "159125          603.45    6k_v_SBA_363_2-seg_599_620-603_450           3.83   \n",
              "\n",
              "        SegmentStart  SegmentEnd                         SpeakerAge  \\\n",
              "187300        210.65      240.48                      Adult -- بالغ   \n",
              "56650         190.01      212.26                            Unknown   \n",
              "159125        599.62      603.45  More than 1 speaker اكثر من متحدث   \n",
              "\n",
              "                            SpeakerGender                     SpeakerDialect  \\\n",
              "187300                               Male                              Najdi   \n",
              "56650                             Unknown                            Unknown   \n",
              "159125  More than 1 speaker اكثر من متحدث  More than 1 speaker اكثر من متحدث   \n",
              "\n",
              "                                  Speaker      Environment  \\\n",
              "187300                      Speaker1متحدث  Music -- موسيقى   \n",
              "56650                        Music موسيقى  Music -- موسيقى   \n",
              "159125  More than 1 speaker اكثر من متحدث   Noisy -- ضوضاء   \n",
              "\n",
              "                                          GroundTruthText  \\\n",
              "187300  وبدينا في الفين وخمستاشر آه بداية من خدمات متن...   \n",
              "56650   اخويا. اخويا. اخويا اخويا الصغير، أخويا أخويا ...   \n",
              "159125                فين أم الخير أم الخير؟ أهي أم الخير   \n",
              "\n",
              "                                            ProcessedText Category  \n",
              "187300  وبدينا في الفين وخمستاشر اه بداية من خدمات متن...   وثائقي  \n",
              "56650   اخويا اخويا اخويا اخويا الصغير اخويا اخويا اخو...   كوميدي  \n",
              "159125                 فين ام الخير ام الخير اهي ام الخير    اطفال  "
            ]
          },
          "execution_count": 13,
          "metadata": {},
          "output_type": "execute_result"
        }
      ],
      "source": [
        "df.sample(n=3)"
      ]
    },
    {
      "cell_type": "markdown",
      "metadata": {
        "id": "Q4iL_SwGQQAY"
      },
      "source": [
        "### Remove unnecessary features"
      ]
    },
    {
      "cell_type": "code",
      "execution_count": null,
      "metadata": {
        "id": "S5eOrialQQAY"
      },
      "outputs": [],
      "source": [
        "# remove unnecessary features\n",
        "df = df[['Category', 'ProcessedText', 'SpeakerDialect']]\n",
        "\n",
        "\n",
        "# keep the needed dialects and categories\n",
        "categories = ['درامي', 'اطفال', 'كوميدي']\n",
        "dialects = ['Najdi', 'Hijazi', 'Khaliji']\n",
        "\n",
        "df = df[df.SpeakerDialect.isin(dialects)]\n",
        "df = df[df.Category.isin(categories)]\n"
      ]
    },
    {
      "cell_type": "code",
      "execution_count": null,
      "metadata": {
        "id": "pEdVQ7uUQQAZ",
        "outputId": "9e1f44c7-6889-40bb-f2cf-7844d8bab12f"
      },
      "outputs": [
        {
          "data": {
            "text/html": [
              "<div>\n",
              "<style scoped>\n",
              "    .dataframe tbody tr th:only-of-type {\n",
              "        vertical-align: middle;\n",
              "    }\n",
              "\n",
              "    .dataframe tbody tr th {\n",
              "        vertical-align: top;\n",
              "    }\n",
              "\n",
              "    .dataframe thead th {\n",
              "        text-align: right;\n",
              "    }\n",
              "</style>\n",
              "<table border=\"1\" class=\"dataframe\">\n",
              "  <thead>\n",
              "    <tr style=\"text-align: right;\">\n",
              "      <th></th>\n",
              "      <th>Category</th>\n",
              "      <th>ProcessedText</th>\n",
              "      <th>SpeakerDialect</th>\n",
              "    </tr>\n",
              "  </thead>\n",
              "  <tbody>\n",
              "    <tr>\n",
              "      <th>235615</th>\n",
              "      <td>درامي</td>\n",
              "      <td>بدل ما انت كده جالس تتفرج عليه ما تيجي تساعدني...</td>\n",
              "      <td>Hijazi</td>\n",
              "    </tr>\n",
              "    <tr>\n",
              "      <th>134991</th>\n",
              "      <td>كوميدي</td>\n",
              "      <td>سلمات يا عتيق</td>\n",
              "      <td>Khaliji</td>\n",
              "    </tr>\n",
              "    <tr>\n",
              "      <th>144900</th>\n",
              "      <td>درامي</td>\n",
              "      <td>مع السلامة</td>\n",
              "      <td>Hijazi</td>\n",
              "    </tr>\n",
              "  </tbody>\n",
              "</table>\n",
              "</div>"
            ],
            "text/plain": [
              "       Category                                      ProcessedText  \\\n",
              "235615    درامي  بدل ما انت كده جالس تتفرج عليه ما تيجي تساعدني...   \n",
              "134991   كوميدي                                      سلمات يا عتيق   \n",
              "144900    درامي                                         مع السلامة   \n",
              "\n",
              "       SpeakerDialect  \n",
              "235615         Hijazi  \n",
              "134991        Khaliji  \n",
              "144900         Hijazi  "
            ]
          },
          "execution_count": 16,
          "metadata": {},
          "output_type": "execute_result"
        }
      ],
      "source": [
        "df.sample(n=3)"
      ]
    },
    {
      "cell_type": "markdown",
      "metadata": {
        "id": "iYXg-G-lQQAZ"
      },
      "source": [
        "We are specifically interested in classifying three dialects—Najdi, Hijazi, and Khaliji—and evaluating the model across three distinct content categories: Drama, Kids, and Comedy. This setup allows us to perform multi-domain testing. Therefore, we will retain only the Category and ProcessedText columns as independent features, and use SpeakerDialect as the target (dependent) variable."
      ]
    },
    {
      "cell_type": "markdown",
      "metadata": {
        "id": "qUI1LIkkQQAa"
      },
      "source": [
        "### Data Balancing\n"
      ]
    },
    {
      "cell_type": "code",
      "execution_count": null,
      "metadata": {
        "id": "DwdENy4AQQAb",
        "outputId": "c10c8960-d358-4988-e436-d469bbdc73ad"
      },
      "outputs": [
        {
          "name": "stdout",
          "output_type": "stream",
          "text": [
            "Category        اطفال  درامي  كوميدي\n",
            "SpeakerDialect                      \n",
            "Hijazi          17724   8284    6093\n",
            "Khaliji          1676   9318   12152\n",
            "Najdi            3232  15142   24338\n"
          ]
        },
        {
          "data": {
            "image/png": "[encoded data removed]",
            "text/plain": [
              "<Figure size 1200x600 with 2 Axes>"
            ]
          },
          "metadata": {},
          "output_type": "display_data"
        },
        {
          "data": {
            "image/png": "[encoded data removed]",
            "text/plain": [
              "<Figure size 640x480 with 1 Axes>"
            ]
          },
          "metadata": {},
          "output_type": "display_data"
        },
        {
          "name": "stdout",
          "output_type": "stream",
          "text": [
            "['Najdi' 'Khaliji' 'Hijazi']\n",
            "[42712 32101 23146]\n"
          ]
        }
      ],
      "source": [
        "import matplotlib.pyplot as plt\n",
        "import seaborn as sns\n",
        "import numpy as np\n",
        "\n",
        "# Create a pivot table to count occurrences of each category per dialect\n",
        "dialect_category_matrix = df.pivot_table(index=\"SpeakerDialect\", columns=\"Category\", aggfunc=\"size\", fill_value=0)\n",
        "\n",
        "# Print the matrix\n",
        "print(dialect_category_matrix)\n",
        "\n",
        "# Visualize the data using a heatmap\n",
        "plt.figure(figsize=(12, 6))\n",
        "sns.heatmap(dialect_category_matrix, annot=True, fmt=\"d\", cmap=\"Blues\", linewidths=0.5)\n",
        "plt.xlabel(\"Category\")\n",
        "plt.ylabel(\"Dialect\")\n",
        "plt.title(\"Number of Categories per Dialect\")\n",
        "plt.xticks(rotation=45)\n",
        "plt.show()\n",
        "\n",
        "# bar chartt for dialect distribution\n",
        "y = np.array(df.SpeakerDialect.value_counts())\n",
        "x = np.array(df.SpeakerDialect.unique())\n",
        "\n",
        "\n",
        "plt.bar(x, y)\n",
        "plt.title('Data')\n",
        "plt.show()\n",
        "\n",
        "print(x)\n",
        "print(y)"
      ]
    },
    {
      "cell_type": "markdown",
      "metadata": {
        "id": "AJ_yYqzXQQAc"
      },
      "source": [
        "The heatmap and bar chart clearly reveals a significant imbalance in the distribution of dialects across the dataset. This imbalance can negatively impact model performance and introduce potential bias.\n",
        "\n",
        "To address this, our goal is to create a balanced dataset by ensuring an equal number of samples for each dialect within every category. Since we are conducting cross-domain evaluations training models on one category and testing on others it’s crucial that each training set across categories is equally representative.\n",
        "\n",
        "Notably, the 'Khaliji' dialect in the 'أطفال' (Kids) category has the fewest samples (1,676). To maintain consistency and fairness across our experiments, we will standardize the number of samples to 1,676 per dialect per category.\n"
      ]
    },
    {
      "cell_type": "code",
      "execution_count": null,
      "metadata": {
        "id": "hg0LZKlKQQAc"
      },
      "outputs": [],
      "source": [
        "df_drama = df[df['Category'] == 'درامي']\n",
        "df_comedy = df[df['Category'] == 'كوميدي']\n",
        "df_kids = df[df['Category'] == 'اطفال']"
      ]
    },
    {
      "cell_type": "code",
      "execution_count": null,
      "metadata": {
        "id": "zuSswBxGQQAd",
        "outputId": "c964f3a1-08e2-4719-ac06-94b3a8e49f03"
      },
      "outputs": [
        {
          "name": "stdout",
          "output_type": "stream",
          "text": [
            "################## balanced_data_kid ##################\n",
            "SpeakerDialect\n",
            "Khaliji    1676\n",
            "Hijazi     1676\n",
            "Najdi      1676\n",
            "Name: count, dtype: int64\n",
            "################## balanced_data_drama ##################\n",
            "SpeakerDialect\n",
            "Khaliji    1676\n",
            "Hijazi     1676\n",
            "Najdi      1676\n",
            "Name: count, dtype: int64\n",
            "################## balanced_data_comedy ##################\n",
            "SpeakerDialect\n",
            "Khaliji    1676\n",
            "Hijazi     1676\n",
            "Najdi      1676\n",
            "Name: count, dtype: int64\n"
          ]
        }
      ],
      "source": [
        "# Define the target number of samples for each dialect\n",
        "target_samples = {\n",
        "    'Najdi': 1676,\n",
        "    'Hijazi': 1676,\n",
        "    'Khaliji': 1676,\n",
        "}\n",
        "\n",
        "# ------------------------------ Kid --------------------------------\n",
        "# Downsample each dialect\n",
        "balanced_data_kid = pd.concat([\n",
        "    group.sample(n=min(len(group), target_samples.get(dialect, len(group))), random_state=42)\n",
        "    for dialect, group in df_kids.groupby('SpeakerDialect')\n",
        "])\n",
        "# Shuffle the final dataset\n",
        "balanced_data_kid = balanced_data_kid.sample(frac=1, random_state=42).reset_index(drop=True)\n",
        "# Check new distribution\n",
        "print('################## balanced_data_kid ##################')\n",
        "print(balanced_data_kid['SpeakerDialect'].value_counts())\n",
        "\n",
        "# ------------------------------ Drama --------------------------------\n",
        "# Downsample each dialect\n",
        "balanced_data_drama = pd.concat([\n",
        "    group.sample(n=min(len(group), target_samples.get(dialect, len(group))), random_state=42)\n",
        "    for dialect, group in df_drama.groupby('SpeakerDialect')\n",
        "])\n",
        "# Shuffle the final dataset\n",
        "balanced_data_drama = balanced_data_drama.sample(frac=1, random_state=42).reset_index(drop=True)\n",
        "# Check new distribution\n",
        "print('################## balanced_data_drama ##################')\n",
        "print(balanced_data_drama['SpeakerDialect'].value_counts())\n",
        "\n",
        "# ------------------------------ Comedy --------------------------------\n",
        "# Downsample each dialect\n",
        "balanced_data_comedy = pd.concat([\n",
        "    group.sample(n=min(len(group), target_samples.get(dialect, len(group))), random_state=42)\n",
        "    for dialect, group in df_comedy.groupby('SpeakerDialect')\n",
        "])\n",
        "# Shuffle the final dataset\n",
        "balanced_data_comedy = balanced_data_comedy.sample(frac=1, random_state=42).reset_index(drop=True)\n",
        "# Check new distribution\n",
        "print('################## balanced_data_comedy ##################')\n",
        "print(balanced_data_comedy['SpeakerDialect'].value_counts())\n"
      ]
    },
    {
      "cell_type": "code",
      "execution_count": null,
      "metadata": {
        "id": "w8XofSHkQQAd",
        "outputId": "ccf560e5-a66c-4e0a-b9f9-38207b3dbb3d"
      },
      "outputs": [
        {
          "data": {
            "image/png": "[encoded data removed]",
            "text/plain": [
              "<Figure size 1500x500 with 3 Axes>"
            ]
          },
          "metadata": {},
          "output_type": "display_data"
        }
      ],
      "source": [
        "import matplotlib.pyplot as plt\n",
        "import numpy as np\n",
        "\n",
        "# Prepare the data\n",
        "y_comedy = balanced_data_comedy['SpeakerDialect'].value_counts()\n",
        "x_comedy = y_comedy.index\n",
        "\n",
        "y_drama = balanced_data_drama['SpeakerDialect'].value_counts()\n",
        "x_drama = y_drama.index\n",
        "\n",
        "y_kid = balanced_data_kid['SpeakerDialect'].value_counts()\n",
        "x_kid = y_kid.index\n",
        "\n",
        "# Create subplots (1 row, 3 columns)\n",
        "fig, axs = plt.subplots(1, 3, figsize=(15, 5))\n",
        "\n",
        "# Comedy subplot\n",
        "axs[0].bar(x_comedy, y_comedy, color='skyblue')\n",
        "axs[0].set_title('Balanced Comedy')\n",
        "axs[0].set_xlabel('Dialect')\n",
        "axs[0].set_ylabel('Count')\n",
        "\n",
        "# Drama subplot\n",
        "axs[1].bar(x_drama, y_drama, color='lightgreen')\n",
        "axs[1].set_title('Balanced Drama')\n",
        "axs[1].set_xlabel('Dialect')\n",
        "\n",
        "# Kids subplot\n",
        "axs[2].bar(x_kid, y_kid, color='salmon')\n",
        "axs[2].set_title('Balanced Kids')\n",
        "axs[2].set_xlabel('Dialect')\n",
        "\n",
        "# Make layout neat\n",
        "plt.tight_layout()\n",
        "plt.show()\n"
      ]
    },
    {
      "cell_type": "markdown",
      "metadata": {
        "id": "Q8uFf2yPQQAe"
      },
      "source": [
        "We'll start by combining the data for some initial modeling experiments. Later, we'll save the separately split datasets to perform cross-domain analysis and evaluate how well models generalize across different categories."
      ]
    },
    {
      "cell_type": "code",
      "execution_count": null,
      "metadata": {
        "id": "aJVwhWDKQQAe",
        "outputId": "aeff6b5a-3ee1-4e65-f50e-11fdd7cc6968"
      },
      "outputs": [
        {
          "data": {
            "image/png": "[encoded data removed]",
            "text/plain": [
              "<Figure size 640x480 with 1 Axes>"
            ]
          },
          "metadata": {},
          "output_type": "display_data"
        },
        {
          "name": "stdout",
          "output_type": "stream",
          "text": [
            "Category        اطفال  درامي  كوميدي\n",
            "SpeakerDialect                      \n",
            "Hijazi           1676   1676    1676\n",
            "Khaliji          1676   1676    1676\n",
            "Najdi            1676   1676    1676\n"
          ]
        },
        {
          "data": {
            "image/png": "[encoded data removed]",
            "text/plain": [
              "<Figure size 1200x600 with 2 Axes>"
            ]
          },
          "metadata": {},
          "output_type": "display_data"
        },
        {
          "name": "stdout",
          "output_type": "stream",
          "text": [
            "['Najdi' 'Khaliji' 'Hijazi']\n",
            "[5028 5028 5028]\n"
          ]
        }
      ],
      "source": [
        "import matplotlib.pyplot as plt\n",
        "import seaborn as sns\n",
        "\n",
        "# Combine all three balanced subsets\n",
        "combined_data = pd.concat([balanced_data_kid, balanced_data_drama, balanced_data_comedy], ignore_index=True)\n",
        "\n",
        "# Shuffle the full dataset\n",
        "combined_data = combined_data.sample(frac=1, random_state=42).reset_index(drop=True)\n",
        "\n",
        "y_combined_data = np.array(combined_data.SpeakerDialect.value_counts())\n",
        "x_combined_data = np.array(combined_data.SpeakerDialect.unique())\n",
        "\n",
        "\n",
        "plt.bar(x_combined_data, y_combined_data)\n",
        "plt.title('Combined Data')\n",
        "plt.show()\n",
        "\n",
        "\n",
        "\n",
        "# Create a pivot table to count occurrences of each category per dialect\n",
        "dialect_category_matrix = combined_data.pivot_table(index=\"SpeakerDialect\", columns=\"Category\", aggfunc=\"size\", fill_value=0)\n",
        "\n",
        "# Print the matrix\n",
        "print(dialect_category_matrix)\n",
        "\n",
        "# Visualize the data using a heatmap\n",
        "plt.figure(figsize=(12, 6))\n",
        "sns.heatmap(dialect_category_matrix, annot=True, fmt=\"d\", cmap=\"Blues\", linewidths=0.5)\n",
        "plt.xlabel(\"Category\")\n",
        "plt.ylabel(\"Dialect\")\n",
        "plt.title(\"Number of Categories per Dialect\")\n",
        "plt.xticks(rotation=45)\n",
        "plt.show()\n",
        "\n",
        "\n",
        "print(x_combined_data)\n",
        "print(y_combined_data)"
      ]
    },
    {
      "cell_type": "markdown",
      "metadata": {
        "id": "VVZ9SVvdQQAf"
      },
      "source": [
        "The above figures shows that our data is balanced 🥳.\n",
        "\n",
        "We will save the files in csv format for future use."
      ]
    },
    {
      "cell_type": "code",
      "execution_count": null,
      "metadata": {
        "id": "2fHiln6tQQAg"
      },
      "outputs": [],
      "source": [
        "# Save cleaned data for future use\n",
        "combined_data.to_csv('combine_data.csv', index=False)\n",
        "\n",
        "# Save cleaned data for future use\n",
        "balanced_data_kid.to_csv('balanced_data_kid.csv', index=False)\n",
        "\n",
        "# Save cleaned data for future use\n",
        "balanced_data_drama.to_csv('balanced_data_drama.csv', index=False)\n",
        "\n",
        "# Save cleaned data for future use\n",
        "balanced_data_comedy.to_csv('balanced_data_comedy.csv', index=False)"
      ]
    },
    {
      "cell_type": "markdown",
      "metadata": {
        "id": "lIuHGLZsQQAg"
      },
      "source": [
        "# Baseline Model - Trying logistic regression and some preprocessing"
      ]
    },
    {
      "cell_type": "markdown",
      "metadata": {
        "id": "wB7U0en9QQAh"
      },
      "source": [
        "In this section, we start by building a baseline text classification model using Logistic Regression to predict the speaker’s dialect based on the transcribed text. At this stage, we use the entire dataset across all category types we are interested in to evaluate the overall performance and identify the necessary preprocessing steps for future models.\n",
        "\n",
        "Next, we shift our focus to building a genre-specific model. For example, we train the model on data from a single genre (e.g., drama) to classify dialects (e.g., Khaliji). This allows the model to learn dialectal patterns within a consistent linguistic context. To assess the model’s generalization ability, we will test it on a different genre (e.g., comedy) and observe how well it performs on out-of-domain data. This approach helps us understand the model’s robustness and adaptability to variations across different media genres."
      ]
    },
    {
      "cell_type": "markdown",
      "metadata": {
        "id": "uMSez6ZjQQAh"
      },
      "source": [
        "### Loadig the data"
      ]
    },
    {
      "cell_type": "code",
      "execution_count": null,
      "metadata": {
        "id": "c0bQ-N38QQAi",
        "outputId": "d729c2ff-4ebb-47b7-bdb1-cee0005c28a0"
      },
      "outputs": [
        {
          "name": "stdout",
          "output_type": "stream",
          "text": [
            "  Category                                      ProcessedText SpeakerDialect\n",
            "0    درامي                                         بعيد ي عني          Najdi\n",
            "1    اطفال                    نفس الشي هذا مستحيل مستحيل يحصل        Khaliji\n",
            "2    درامي                           ارجوك اعتبر الموضوع عادي          Najdi\n",
            "3    درامي      طبعا طبعا يا خالي بالتاكيد انا راح انبه عليهم        Khaliji\n",
            "4    درامي  خلاص خلاص لا تزعل نفسك يوبا لا تزعل نفسك انا ا...        Khaliji\n",
            "45252\n"
          ]
        }
      ],
      "source": [
        "import pandas as pd\n",
        "from sklearn.model_selection import train_test_split\n",
        "\n",
        "# Load your CSV file\n",
        "df = pd.read_csv('combined_data.csv')\n",
        "print(df.head())\n",
        "print(df.size)\n",
        "# Split into 80% training and 20% testing, with shuffling\n",
        "train, test = train_test_split(df, test_size=0.2, shuffle=True, random_state=42)"
      ]
    },
    {
      "cell_type": "markdown",
      "metadata": {
        "id": "pwcLlIluQQAi"
      },
      "source": [
        "### Now lets try our basline model\n",
        "In this section, we explore two baseline text classification models built to predict the speaker’s dialect from transcribed Arabic speech segments. Both models are based on Logistic Regression, and their purpose is to serve as a reference point for evaluating more advanced models in future stages. Each model employs different feature engineering techniques and preprocessing steps, allowing us to assess their impact on overall performance.\n",
        "\n"
      ]
    },
    {
      "cell_type": "code",
      "execution_count": null,
      "metadata": {
        "id": "D0_HNSMSQQAi",
        "outputId": "8ed530ff-20d6-4c94-fcf3-e3a3b68e865f"
      },
      "outputs": [
        {
          "name": "stdout",
          "output_type": "stream",
          "text": [
            "Initial number of rows in training set: 12067\n",
            "Initial number of rows in testing set: 3017\n",
            "Number of rows after removing missing values in training set: 12064\n",
            "Number of rows after removing missing values in testing set: 3016\n"
          ]
        },
        {
          "data": {
            "image/png": "[encoded data removed]",
            "text/plain": [
              "<Figure size 1000x600 with 1 Axes>"
            ]
          },
          "metadata": {},
          "output_type": "display_data"
        }
      ],
      "source": [
        "import pandas as pd\n",
        "import matplotlib.pyplot as plt\n",
        "from sklearn.pipeline import Pipeline\n",
        "from sklearn.linear_model import LogisticRegression\n",
        "from sklearn.feature_extraction.text import TfidfVectorizer\n",
        "from sklearn.metrics import classification_report, accuracy_score\n",
        "\n",
        "# Display initial number of rows\n",
        "initial_train_count = len(train)\n",
        "initial_test_count = len(test)\n",
        "print(f\"Initial number of rows in training set: {initial_train_count}\")\n",
        "print(f\"Initial number of rows in testing set: {initial_test_count}\")\n",
        "\n",
        "# Remove rows with missing values in 'ProcessedText' or 'SpeakerDialect'\n",
        "train_cleaned = train.dropna(subset=['ProcessedText', 'SpeakerDialect'])\n",
        "test_cleaned = test.dropna(subset=['ProcessedText', 'SpeakerDialect'])\n",
        "\n",
        "# Display number of rows after removal\n",
        "final_train_count = len(train_cleaned)\n",
        "final_test_count = len(test_cleaned)\n",
        "print(f\"Number of rows after removing missing values in training set: {final_train_count}\")\n",
        "print(f\"Number of rows after removing missing values in testing set: {final_test_count}\")\n",
        "\n",
        "# Plotting the counts\n",
        "counts = [initial_train_count, final_train_count, initial_test_count, final_test_count]\n",
        "labels = ['Train Before Removal', 'Train After Removal', 'Test Before Removal', 'Test After Removal']\n",
        "\n",
        "plt.figure(figsize=(10, 6))\n",
        "plt.bar(labels, counts, color=['skyblue', 'lightgreen', 'salmon', 'lightcoral'])\n",
        "plt.xlabel('Dataset State')\n",
        "plt.ylabel('Number of Rows')\n",
        "plt.title('Number of Rows Before and After Removing Missing Values')\n",
        "plt.ylim(0, max(counts) + 10)  # Adding some space above the highest bar\n",
        "plt.show()"
      ]
    },
    {
      "cell_type": "code",
      "execution_count": null,
      "metadata": {
        "id": "g3PSqshtQQAj",
        "outputId": "0b1922ff-1229-4cf6-a3d1-e8047d2217f5"
      },
      "outputs": [
        {
          "name": "stdout",
          "output_type": "stream",
          "text": [
            "Test Accuracy: 0.43567639257294427\n",
            "\n",
            "Classification Report:\n",
            "               precision    recall  f1-score   support\n",
            "\n",
            "      Hijazi       0.44      0.42      0.43      1026\n",
            "     Khaliji       0.41      0.42      0.41       957\n",
            "       Najdi       0.46      0.46      0.46      1033\n",
            "\n",
            "    accuracy                           0.44      3016\n",
            "   macro avg       0.44      0.44      0.44      3016\n",
            "weighted avg       0.44      0.44      0.44      3016\n",
            "\n"
          ]
        }
      ],
      "source": [
        "\n",
        "# Define features and target\n",
        "train_x = train_cleaned['ProcessedText']\n",
        "train_y = train_cleaned['SpeakerDialect']\n",
        "test_x = test_cleaned['ProcessedText']\n",
        "test_y = test_cleaned['SpeakerDialect']\n",
        "\n",
        "# Define the pipeline\n",
        "pipeline = Pipeline([\n",
        "    ('tfidf', TfidfVectorizer(analyzer='word', ngram_range=(1, 4), max_features=5000)),\n",
        "    ('clf', LogisticRegression(max_iter=200, solver='lbfgs'))\n",
        "])\n",
        "\n",
        "# Train the model\n",
        "pipeline.fit(train_x, train_y)\n",
        "\n",
        "# Test the model\n",
        "test_preds = pipeline.predict(test_x)\n",
        "\n",
        "# Evaluate the model\n",
        "print(\"Test Accuracy:\", accuracy_score(test_y, test_preds))\n",
        "print(\"\\nClassification Report:\\n\", classification_report(test_y, test_preds))"
      ]
    },
    {
      "cell_type": "markdown",
      "metadata": {
        "id": "5ZStGHzxQQAk"
      },
      "source": [
        "### dummy classfier"
      ]
    },
    {
      "cell_type": "code",
      "execution_count": null,
      "metadata": {
        "id": "L7wtTy2eQQAl",
        "outputId": "6f206a9c-7c99-4080-dfab-fdd71f0021b9"
      },
      "outputs": [
        {
          "name": "stdout",
          "output_type": "stream",
          "text": [
            "Test Accuracy: 0.3246021220159151\n",
            "\n",
            "Classification Report:\n",
            "               precision    recall  f1-score   support\n",
            "\n",
            "      Hijazi       0.34      0.32      0.33      1026\n",
            "     Khaliji       0.31      0.34      0.33       957\n",
            "       Najdi       0.32      0.31      0.32      1033\n",
            "\n",
            "    accuracy                           0.32      3016\n",
            "   macro avg       0.33      0.33      0.32      3016\n",
            "weighted avg       0.33      0.32      0.32      3016\n",
            "\n"
          ]
        }
      ],
      "source": [
        "from sklearn.dummy import DummyClassifier\n",
        "dummy = DummyClassifier(strategy='stratified')\n",
        "\n",
        "# Define the pipeline\n",
        "pipeline = Pipeline([\n",
        "    ('tfidf', TfidfVectorizer(analyzer='word', ngram_range=(1, 4), max_features=5000)),\n",
        "    #('clf', LogisticRegression(max_iter=200, solver='lbfgs'))\n",
        "    ('clf',dummy)\n",
        "])\n",
        "\n",
        "# Train the model\n",
        "pipeline.fit(train_x, train_y)\n",
        "\n",
        "# Test the model\n",
        "test_preds = pipeline.predict(test_x)\n",
        "\n",
        "# Evaluate the model\n",
        "print(\"Test Accuracy:\", accuracy_score(test_y, test_preds))\n",
        "print(\"\\nClassification Report:\\n\", classification_report(test_y, test_preds))"
      ]
    },
    {
      "cell_type": "markdown",
      "metadata": {
        "id": "KrzKey7cQQAm"
      },
      "source": [
        "This model utilizes the ProcessedText column as input features and SpeakerDialect as the target variable. The core steps involved are:\n",
        "\n",
        "Feature Extraction: We apply TF-IDF vectorization at the word level, using n-grams ranging from 1 to 4 words. This allows the model to consider both individual words and short phrases (up to 4-grams) that may reflect dialectal expressions or common phrase structures.\n",
        "\n",
        "Dimensionality Reduction: The feature space is limited to the top 5000 features ranked by TF-IDF importance, which helps reduce noise and improve computational efficiency.\n",
        "\n",
        "Classification: A Logistic Regression classifier is trained with a maximum of 200 iterations and the lbfgs solver to ensure convergence on this relatively high-dimensional feature set.\n",
        "\n",
        "This model sets a strong baseline by leveraging word-level patterns compared to the dummy calssifier. The use of up to 4-grams helps capture common dialectal phrases, which may differ between Hijazi, Khaliji, and Najdi dialects. Despite its simplicity, this model achieves balanced performance across the dialect classes, indicating that even a linear model can capture some linguistic distinctions based on surface-level features."
      ]
    },
    {
      "cell_type": "markdown",
      "metadata": {
        "id": "owwEJZtpQQAm"
      },
      "source": [
        "#### trying to enhance the model"
      ]
    },
    {
      "cell_type": "code",
      "execution_count": null,
      "metadata": {
        "id": "G8jl4cOLQQAn",
        "outputId": "72c83ee7-5f48-4a26-a2ba-339f690b4ca4"
      },
      "outputs": [
        {
          "name": "stderr",
          "output_type": "stream",
          "text": [
            "C:\\Users\\basha\\AppData\\Local\\Temp\\ipykernel_23036\\3371607015.py:28: SettingWithCopyWarning: \n",
            "A value is trying to be set on a copy of a slice from a DataFrame.\n",
            "Try using .loc[row_indexer,col_indexer] = value instead\n",
            "\n",
            "See the caveats in the documentation: https://pandas.pydata.org/pandas-docs/stable/user_guide/indexing.html#returning-a-view-versus-a-copy\n",
            "  train_cleaned['ProcessedText'] = train_cleaned['ProcessedText'].astype(str).apply(clean_arabic_text)\n",
            "C:\\Users\\basha\\AppData\\Local\\Temp\\ipykernel_23036\\3371607015.py:29: SettingWithCopyWarning: \n",
            "A value is trying to be set on a copy of a slice from a DataFrame.\n",
            "Try using .loc[row_indexer,col_indexer] = value instead\n",
            "\n",
            "See the caveats in the documentation: https://pandas.pydata.org/pandas-docs/stable/user_guide/indexing.html#returning-a-view-versus-a-copy\n",
            "  test_cleaned['ProcessedText'] = test_cleaned['ProcessedText'].astype(str).apply(clean_arabic_text)\n"
          ]
        },
        {
          "name": "stdout",
          "output_type": "stream",
          "text": [
            "\n",
            "✅ Test Accuracy: 0.4316976127320955\n",
            "\n",
            "📋 Classification Report:\n",
            "               precision    recall  f1-score   support\n",
            "\n",
            "      Hijazi       0.44      0.43      0.44      1026\n",
            "     Khaliji       0.40      0.42      0.41       957\n",
            "       Najdi       0.46      0.45      0.45      1033\n",
            "\n",
            "    accuracy                           0.43      3016\n",
            "   macro avg       0.43      0.43      0.43      3016\n",
            "weighted avg       0.43      0.43      0.43      3016\n",
            "\n"
          ]
        }
      ],
      "source": [
        "import re\n",
        "from sklearn.pipeline import Pipeline, FeatureUnion\n",
        "#  Arabic text cleaner\n",
        "def clean_arabic_text(text):\n",
        "    if pd.isnull(text):\n",
        "        return \"\"\n",
        "\n",
        "    # Normalize letters\n",
        "    text = re.sub(\"[إأآا]\", \"ا\", text)\n",
        "    text = re.sub(\"ى\", \"ي\", text)\n",
        "    text = re.sub(\"ؤ\", \"ء\", text)\n",
        "    text = re.sub(\"ئ\", \"ء\", text)\n",
        "    text = re.sub(\"ة\", \"ه\", text)\n",
        "\n",
        "    # Remove diacritics\n",
        "    text = re.sub(r'[ًٌٍَُِّْـ]', '', text)\n",
        "\n",
        "    # Remove non-Arabic characters, digits, punctuation\n",
        "    text = re.sub(r'[^\\u0621-\\u064A\\s]', '', text)\n",
        "\n",
        "    # Remove extra spaces\n",
        "    text = re.sub(r'\\s+', ' ', text).strip()\n",
        "\n",
        "    return text\n",
        "\n",
        "\n",
        "# Apply Arabic text cleaning\n",
        "train_cleaned['ProcessedText'] = train_cleaned['ProcessedText'].astype(str).apply(clean_arabic_text)\n",
        "test_cleaned['ProcessedText'] = test_cleaned['ProcessedText'].astype(str).apply(clean_arabic_text)\n",
        "\n",
        "train_x = train_cleaned['ProcessedText']\n",
        "train_y = train_cleaned['SpeakerDialect']\n",
        "test_x = test_cleaned['ProcessedText']\n",
        "test_y = test_cleaned['SpeakerDialect']\n",
        "# Combine word and char n-grams\n",
        "combined_features = FeatureUnion([\n",
        "    ('word_tfidf', TfidfVectorizer(analyzer='word', ngram_range=(1, 3), max_features=5000)),\n",
        "    ('char_tfidf', TfidfVectorizer(analyzer='char', ngram_range=(2, 5), max_features=3000))\n",
        "])\n",
        "\n",
        "# Define pipeline\n",
        "pipeline = Pipeline([\n",
        "    ('vectorizer', combined_features),\n",
        "    ('clf', LogisticRegression(max_iter=200, solver='lbfgs'))\n",
        "])\n",
        "\n",
        "#  Train model\n",
        "pipeline.fit(train_x, train_y)\n",
        "\n",
        "# 🧪 Predict and evaluate\n",
        "test_preds = pipeline.predict(test_x)\n",
        "\n",
        "print(\"\\n✅ Test Accuracy:\", accuracy_score(test_y, test_preds))\n",
        "print(\"\\n📋 Classification Report:\\n\", classification_report(test_y, test_preds))\n"
      ]
    },
    {
      "cell_type": "markdown",
      "metadata": {
        "id": "W7xCPrNnQQAn"
      },
      "source": [
        "This model extends the first by incorporating both text normalization and multi-level n-gram features, as follows:\n",
        "\n",
        "Arabic Text Cleaning: The text is normalized to address inconsistencies in Arabic spelling (e.g., different forms of “alif”, converting “ة” to “ه”), and diacritics, numbers, punctuation, and non-Arabic characters are removed. This reduces variability and focuses on core linguistic content.\n",
        "\n",
        "Combined Features:\n",
        "\n",
        "Word-level TF-IDF with n-grams from 1 to 3.\n",
        "\n",
        "Character-level TF-IDF with n-grams from 2 to 5.\n",
        "\n",
        "These two sets of features are combined using FeatureUnion, enabling the model to capture both high-level and subword-level patterns in the text."
      ]
    },
    {
      "cell_type": "markdown",
      "metadata": {
        "id": "BodOKgVNQQAn"
      },
      "source": [
        "This model aims to improve generalization by reducing text noise and enriching the feature space. The inclusion of character-level n-grams is particularly important in Arabic, as dialectal variations often appear in suffixes, prefixes, or specific character sequences. However, despite these enhancements, the model performs slightly worse than the first.\n",
        "\n",
        "This could be due to:\n",
        "\n",
        "Overfitting or Noise: Character-level features can introduce noise when not balanced properly with semantic-level features.\n",
        "\n",
        "Feature Limitations: A cap of 3000 character features + 5000 word features may still be insufficient to represent the full complexity of the dataset.\n",
        "\n",
        "Model Simplicity: Logistic Regression is a linear model and might not fully exploit the richer feature set without more advanced learning mechanisms."
      ]
    },
    {
      "cell_type": "markdown",
      "metadata": {
        "id": "MyVcDZ6rQQAo"
      },
      "source": [
        "As observed, there is no major difference between the performance of the two models. The accuracy and F1-scores across all dialects remain relatively stable. This suggests that while Model 2 introduced more complex preprocessing and a richer feature space, the added complexity did not translate into a significant performance gain."
      ]
    },
    {
      "cell_type": "markdown",
      "metadata": {
        "id": "Rul4xWzDQQAo"
      },
      "source": [
        "# Cross-Domain (Out-of-Domain) Evaluation\n"
      ]
    },
    {
      "cell_type": "markdown",
      "metadata": {
        "id": "usbwGNURQQAo"
      },
      "source": [
        "In this section, we aim to evaluate the generalization ability of our dialect classification model by testing it across different media genres. The dataset consists of three categories: Kids, Drama, and Comedy, each representing distinct linguistic contexts. These genres differ in terms of tone, style, and vocabulary, which provides an opportunity to assess how well the model can generalize to data outside of its training domain."
      ]
    },
    {
      "cell_type": "markdown",
      "metadata": {
        "id": "m96j7iXEQQAp"
      },
      "source": [
        "### Methodology\n",
        "The methodology for cross-domain evaluation involves training the model on data from one genre and testing it on data from a different genre. Specifically, we proceed with the following steps:\n",
        "\n",
        "Domain-Specific Training: We train the model on data from a specific genre (e.g., Drama), using the cleaned and preprocessed text data. The training process involves learning to classify dialects (Hijazi, Khaliji, and Najdi) based on the linguistic features inherent to that genre.\n",
        "\n",
        "Cross-Domain Testing: After training on the chosen genre, we test the model on data from other genres (e.g., Comedy or Kids) to simulate a real-world scenario where the model may encounter new genres or contexts not present during training.\n",
        "\n",
        "Dialect Classification: Throughout all experiments, the task remains consistent — predicting the speaker's dialect, specifically Hijazi, Khaliji, or Najdi, based on the text provided. The aim is to assess whether the model can identify dialectal patterns across various genres.\n",
        "\n",
        "### Justification for the Approach\n",
        "This cross-domain evaluation is designed to assess the model's ability to generalize across different media contexts. In real-world applications, language models are often deployed in dynamic environments where the data may come from new or unseen domains. This is especially true in Arabic dialect classification, where linguistic variations are influenced not only by regional factors but also by the type of content (e.g., formal vs. informal, spoken vs. written).\n",
        "\n",
        "By testing the model across different genres, we can determine whether the model captures generalizable dialectal features or if its performance is strongly tied to the genre-specific language patterns it was trained on. This evaluation also allows us to identify potential areas where further refinement or domain adaptation may be necessary, such as adjusting preprocessing techniques or experimenting with more complex models capable of handling cross-domain variations.\n",
        "\n",
        "In summary, this approach provides valuable insights into the robustness and adaptability of the model, offering a clearer understanding of how well it can perform in real-world, diverse linguistic settings."
      ]
    },
    {
      "cell_type": "markdown",
      "metadata": {
        "id": "OarllOIqQQAp"
      },
      "source": [
        "### Loading, splitting and checking the balance"
      ]
    },
    {
      "cell_type": "code",
      "execution_count": null,
      "metadata": {
        "id": "87royhQyQQAp",
        "outputId": "18b47e12-6a84-4958-e37a-a9fea946da93"
      },
      "outputs": [
        {
          "name": "stdout",
          "output_type": "stream",
          "text": [
            "  Category                                      ProcessedText SpeakerDialect\n",
            "0   كوميدي               سكتي يا خزنه سكتي طايح تعرف في الناس        Khaliji\n",
            "1   كوميدي                                 عرفتي اخوي صقر يمه        Khaliji\n",
            "2   كوميدي                                       فؤاد يا ولدي         Hijazi\n",
            "3   كوميدي                                رحتو غيرواضح مستشفى         Hijazi\n",
            "4   كوميدي  انه هالكلام الفاضي هذا يصير في شركتي هنا بعدين...          Najdi\n",
            "15084\n",
            "  Category                                      ProcessedText SpeakerDialect\n",
            "0    درامي                                    بس رح نتعب كتير        Khaliji\n",
            "1    درامي                                ام حبيبة القلب سوير        Khaliji\n",
            "2    درامي  يا جدي العود ترى الموضوع عادي مرة عادي ان شاء ...         Hijazi\n",
            "3    درامي                            هاهاها ربنا كريم يا ولد         Hijazi\n",
            "4    درامي                                     تدرين يا مشاعل          Najdi\n",
            "15084\n",
            "  Category                                      ProcessedText SpeakerDialect\n",
            "0    اطفال  طيب هو اخ مكار لو الزعيم وافق يعني وراح نشتغل ...        Khaliji\n",
            "1    اطفال                    ا بس انا انا كيف خرجت من المخزن        Khaliji\n",
            "2    اطفال  يا منظم يا منظم الحقنا الحقنا الحقنا يا منظم ا...         Hijazi\n",
            "3    اطفال                       يعني يعني يعني انا ماني فاهم         Hijazi\n",
            "4    اطفال                                   لون سيارة الوالد          Najdi\n",
            "15084\n"
          ]
        }
      ],
      "source": [
        "import pandas as pd\n",
        "from sklearn.model_selection import train_test_split\n",
        "\n",
        "# Load your CSV file\n",
        "df = pd.read_csv('balanced_data_comedy.csv')\n",
        "print(df.head())\n",
        "print(df.size)\n",
        "# Split into 80% training and 20% testing, with shuffling\n",
        "trainC, testC = train_test_split(df, test_size=0.2, shuffle=True, random_state=42)\n",
        "\n",
        "# Load your CSV file\n",
        "df = pd.read_csv('balanced_data_drama.csv')\n",
        "print(df.head())\n",
        "print(df.size)\n",
        "# Split into 80% training and 20% testing, with shuffling\n",
        "trainD, testD = train_test_split(df, test_size=0.2, shuffle=True, random_state=42)\n",
        "\n",
        "\n",
        "# Load your CSV file\n",
        "df = pd.read_csv('balanced_data_kid.csv')\n",
        "print(df.head())\n",
        "print(df.size)\n",
        "# Split into 80% training and 20% testing, with shuffling\n",
        "trainK, testK = train_test_split(df, test_size=0.2, shuffle=True, random_state=42)\n",
        "\n",
        "\n"
      ]
    },
    {
      "cell_type": "markdown",
      "metadata": {
        "id": "LMm63ft7QQAq"
      },
      "source": [
        "#### Cleaning"
      ]
    },
    {
      "cell_type": "code",
      "execution_count": null,
      "metadata": {
        "id": "0zlGLhMxQQAq",
        "outputId": "c6792b86-7e5b-41ae-cbce-3a3f2090adca"
      },
      "outputs": [
        {
          "name": "stdout",
          "output_type": "stream",
          "text": [
            "Initial training rows: 4022\n",
            "Initial test rows: 1006\n",
            "After cleaning training rows: 4022\n",
            "After cleaning test rows: 1006\n",
            "Initial training rows: 4022\n",
            "Initial test rows: 1006\n",
            "After cleaning training rows: 4020\n",
            "After cleaning test rows: 1006\n",
            "Initial training rows: 4022\n",
            "Initial test rows: 1006\n",
            "After cleaning training rows: 4020\n",
            "After cleaning test rows: 1006\n"
          ]
        }
      ],
      "source": [
        "\n",
        "# Show initial row counts\n",
        "print(f\"Initial training rows: {len(trainD)}\")\n",
        "print(f\"Initial test rows: {len(testD)}\")\n",
        "\n",
        "# Drop rows with missing values\n",
        "trainD.dropna(subset=['ProcessedText', 'SpeakerDialect'], inplace=True)\n",
        "testD.dropna(subset=['ProcessedText', 'SpeakerDialect'], inplace=True)\n",
        "\n",
        "# Show counts after cleaning\n",
        "print(f\"After cleaning training rows: {len(trainD)}\")\n",
        "print(f\"After cleaning test rows: {len(testD)}\")\n",
        "\n",
        "# Show initial row counts\n",
        "print(f\"Initial training rows: {len(trainC)}\")\n",
        "print(f\"Initial test rows: {len(testC)}\")\n",
        "\n",
        "# Drop rows with missing values\n",
        "trainC.dropna(subset=['ProcessedText', 'SpeakerDialect'], inplace=True)\n",
        "testC.dropna(subset=['ProcessedText', 'SpeakerDialect'], inplace=True)\n",
        "\n",
        "# Show counts after cleaning\n",
        "print(f\"After cleaning training rows: {len(trainC)}\")\n",
        "print(f\"After cleaning test rows: {len(testC)}\")\n",
        "\n",
        "# Show initial row counts\n",
        "print(f\"Initial training rows: {len(trainK)}\")\n",
        "print(f\"Initial test rows: {len(testK)}\")\n",
        "\n",
        "# Drop rows with missing values\n",
        "trainK.dropna(subset=['ProcessedText', 'SpeakerDialect'], inplace=True)\n",
        "testK.dropna(subset=['ProcessedText', 'SpeakerDialect'], inplace=True)\n",
        "\n",
        "# Show counts after cleaning\n",
        "print(f\"After cleaning training rows: {len(trainK)}\")\n",
        "print(f\"After cleaning test rows: {len(testK)}\")\n",
        "\n",
        "\n"
      ]
    },
    {
      "cell_type": "code",
      "execution_count": null,
      "metadata": {
        "id": "H5BvSuFAQQAq"
      },
      "outputs": [],
      "source": [
        "# Define features and target\n",
        "train_xD = trainD['ProcessedText']\n",
        "train_yD = trainD['SpeakerDialect']\n",
        "test_xD = testD['ProcessedText']\n",
        "test_yD = testD['SpeakerDialect']\n",
        "# Define features and target\n",
        "train_xC = trainC['ProcessedText']\n",
        "train_yC = trainC['SpeakerDialect']\n",
        "test_xC = testC['ProcessedText']\n",
        "test_yC = testC['SpeakerDialect']\n",
        "# Define features and target\n",
        "train_xK = trainK['ProcessedText']\n",
        "train_yK = trainK['SpeakerDialect']\n",
        "test_xK= testK['ProcessedText']\n",
        "test_yK = testK['SpeakerDialect']"
      ]
    },
    {
      "cell_type": "markdown",
      "metadata": {
        "id": "PXpFEdfdQQAr"
      },
      "source": [
        "#### Comedy trainig and testing"
      ]
    },
    {
      "cell_type": "code",
      "execution_count": null,
      "metadata": {
        "id": "10ot0NdDQQAr",
        "outputId": "bac07f01-45cf-4eb7-bdaa-b3608dfc5bda"
      },
      "outputs": [
        {
          "name": "stdout",
          "output_type": "stream",
          "text": [
            "Test Accuracy on comedy: 0.40457256461232605\n",
            "\n",
            "Classification Report:\n",
            "               precision    recall  f1-score   support\n",
            "\n",
            "      Hijazi       0.43      0.39      0.41       341\n",
            "     Khaliji       0.39      0.44      0.41       324\n",
            "       Najdi       0.40      0.38      0.39       341\n",
            "\n",
            "    accuracy                           0.40      1006\n",
            "   macro avg       0.41      0.41      0.40      1006\n",
            "weighted avg       0.41      0.40      0.40      1006\n",
            "\n",
            "Test Accuracy on drama: 0.3489065606361829\n",
            "\n",
            "Classification Report:\n",
            "               precision    recall  f1-score   support\n",
            "\n",
            "      Hijazi       0.37      0.35      0.36       341\n",
            "     Khaliji       0.36      0.40      0.38       324\n",
            "       Najdi       0.32      0.30      0.31       341\n",
            "\n",
            "    accuracy                           0.35      1006\n",
            "   macro avg       0.35      0.35      0.35      1006\n",
            "weighted avg       0.35      0.35      0.35      1006\n",
            "\n",
            "Test Accuracy on kids: 0.3508946322067594\n",
            "\n",
            "Classification Report:\n",
            "               precision    recall  f1-score   support\n",
            "\n",
            "      Hijazi       0.35      0.42      0.38       341\n",
            "     Khaliji       0.30      0.27      0.28       324\n",
            "       Najdi       0.39      0.37      0.38       341\n",
            "\n",
            "    accuracy                           0.35      1006\n",
            "   macro avg       0.35      0.35      0.35      1006\n",
            "weighted avg       0.35      0.35      0.35      1006\n",
            "\n"
          ]
        }
      ],
      "source": [
        "# Imports\n",
        "import pandas as pd\n",
        "import matplotlib.pyplot as plt\n",
        "import re\n",
        "from sklearn.pipeline import Pipeline, FeatureUnion\n",
        "from sklearn.linear_model import LogisticRegression\n",
        "from sklearn.feature_extraction.text import TfidfVectorizer\n",
        "from sklearn.metrics import classification_report, accuracy_score\n",
        "\n",
        "# Define the pipeline\n",
        "pipeline = Pipeline([\n",
        "    ('tfidf', TfidfVectorizer(analyzer='word', ngram_range=(1, 4), max_features=5000)),\n",
        "    ('clf', LogisticRegression(max_iter=200, solver='lbfgs'))\n",
        "])\n",
        "\n",
        "# Train the model\n",
        "pipeline.fit(train_xC, train_yC)\n",
        "\n",
        "# Test the model\n",
        "test_preds = pipeline.predict(test_xC)\n",
        "C_testC = test_preds\n",
        "\n",
        "# Evaluate the model\n",
        "print(\"Test Accuracy on comedy:\", accuracy_score(test_yC, test_preds))\n",
        "print(\"\\nClassification Report:\\n\", classification_report(test_yC, test_preds))\n",
        "\n",
        "# Test the model\n",
        "test_preds = pipeline.predict(test_xD)\n",
        "C_testD = test_preds\n",
        "\n",
        "# Evaluate the model\n",
        "print(\"Test Accuracy on drama:\", accuracy_score(test_yD, test_preds))\n",
        "print(\"\\nClassification Report:\\n\", classification_report(test_yD, test_preds))\n",
        "\n",
        "\n",
        "# Test the model\n",
        "test_preds = pipeline.predict(test_xK)\n",
        "C_testK = test_preds\n",
        "\n",
        "# Evaluate the model\n",
        "print(\"Test Accuracy on kids:\", accuracy_score(test_yK, test_preds))\n",
        "print(\"\\nClassification Report:\\n\", classification_report(test_yK, test_preds))"
      ]
    },
    {
      "cell_type": "markdown",
      "metadata": {
        "id": "hMROcXQzQQAs"
      },
      "source": [
        "#### Drama trainig and testing"
      ]
    },
    {
      "cell_type": "code",
      "execution_count": null,
      "metadata": {
        "id": "lUNbQuKWQQAs",
        "outputId": "8cd659aa-33a6-4160-8b80-2e611c43d8bb"
      },
      "outputs": [
        {
          "name": "stdout",
          "output_type": "stream",
          "text": [
            "Test Accuracy on drama: 0.4224652087475149\n",
            "\n",
            "Classification Report:\n",
            "               precision    recall  f1-score   support\n",
            "\n",
            "      Hijazi       0.49      0.49      0.49       341\n",
            "     Khaliji       0.40      0.40      0.40       324\n",
            "       Najdi       0.38      0.38      0.38       341\n",
            "\n",
            "    accuracy                           0.42      1006\n",
            "   macro avg       0.42      0.42      0.42      1006\n",
            "weighted avg       0.42      0.42      0.42      1006\n",
            "\n",
            "Test Accuracy on comedy: 0.34691848906560635\n",
            "\n",
            "Classification Report:\n",
            "               precision    recall  f1-score   support\n",
            "\n",
            "      Hijazi       0.36      0.27      0.31       341\n",
            "     Khaliji       0.35      0.36      0.36       324\n",
            "       Najdi       0.33      0.41      0.37       341\n",
            "\n",
            "    accuracy                           0.35      1006\n",
            "   macro avg       0.35      0.35      0.34      1006\n",
            "weighted avg       0.35      0.35      0.34      1006\n",
            "\n",
            "Test Accuracy on kids: 0.35984095427435386\n",
            "\n",
            "Classification Report:\n",
            "               precision    recall  f1-score   support\n",
            "\n",
            "      Hijazi       0.36      0.48      0.41       341\n",
            "     Khaliji       0.32      0.24      0.27       324\n",
            "       Najdi       0.40      0.35      0.37       341\n",
            "\n",
            "    accuracy                           0.36      1006\n",
            "   macro avg       0.36      0.36      0.35      1006\n",
            "weighted avg       0.36      0.36      0.35      1006\n",
            "\n"
          ]
        }
      ],
      "source": [
        "\n",
        "# Define the pipeline\n",
        "pipeline = Pipeline([\n",
        "    ('tfidf', TfidfVectorizer(analyzer='word', ngram_range=(1, 4), max_features=5000)),\n",
        "    ('clf', LogisticRegression(max_iter=200, solver='lbfgs'))\n",
        "])\n",
        "\n",
        "# Train the model\n",
        "pipeline.fit(train_xD, train_yD)\n",
        "\n",
        "\n",
        "# Test the model\n",
        "test_preds = pipeline.predict(test_xD)\n",
        "D_testD = test_preds\n",
        "# Evaluate the model\n",
        "print(\"Test Accuracy on drama:\", accuracy_score(test_yD, test_preds))\n",
        "print(\"\\nClassification Report:\\n\", classification_report(test_yD, test_preds))\n",
        "\n",
        "\n",
        "# Test the model\n",
        "test_preds = pipeline.predict(test_xC)\n",
        "D_testC = test_preds\n",
        "\n",
        "# Evaluate the model\n",
        "print(\"Test Accuracy on comedy:\", accuracy_score(test_yC, test_preds))\n",
        "print(\"\\nClassification Report:\\n\", classification_report(test_yC, test_preds))\n",
        "\n",
        "\n",
        "# Test the model\n",
        "test_preds = pipeline.predict(test_xK)\n",
        "D_testK = test_preds\n",
        "\n",
        "# Evaluate the model\n",
        "print(\"Test Accuracy on kids:\", accuracy_score(test_yK, test_preds))\n",
        "print(\"\\nClassification Report:\\n\", classification_report(test_yK, test_preds))"
      ]
    },
    {
      "cell_type": "markdown",
      "metadata": {
        "id": "P8NO5QukQQAt"
      },
      "source": [
        "#### Kids training and testing"
      ]
    },
    {
      "cell_type": "code",
      "execution_count": null,
      "metadata": {
        "id": "qkGlzrb3QQAt",
        "outputId": "24d6936d-3f72-4cd1-de69-d9e0aaef7880"
      },
      "outputs": [
        {
          "name": "stdout",
          "output_type": "stream",
          "text": [
            "Test Accuracy on kids: 0.49403578528827036\n",
            "\n",
            "Classification Report:\n",
            "               precision    recall  f1-score   support\n",
            "\n",
            "      Hijazi       0.43      0.41      0.42       341\n",
            "     Khaliji       0.49      0.47      0.48       324\n",
            "       Najdi       0.55      0.60      0.57       341\n",
            "\n",
            "    accuracy                           0.49      1006\n",
            "   macro avg       0.49      0.49      0.49      1006\n",
            "weighted avg       0.49      0.49      0.49      1006\n",
            "\n",
            "Test Accuracy on drama: 0.34791252485089463\n",
            "\n",
            "Classification Report:\n",
            "               precision    recall  f1-score   support\n",
            "\n",
            "      Hijazi       0.38      0.33      0.36       341\n",
            "     Khaliji       0.29      0.27      0.28       324\n",
            "       Najdi       0.36      0.43      0.40       341\n",
            "\n",
            "    accuracy                           0.35      1006\n",
            "   macro avg       0.35      0.35      0.34      1006\n",
            "weighted avg       0.35      0.35      0.35      1006\n",
            "\n",
            "Test Accuracy on comedy: 0.3379721669980119\n",
            "\n",
            "Classification Report:\n",
            "               precision    recall  f1-score   support\n",
            "\n",
            "      Hijazi       0.33      0.24      0.28       341\n",
            "     Khaliji       0.32      0.28      0.30       324\n",
            "       Najdi       0.35      0.49      0.41       341\n",
            "\n",
            "    accuracy                           0.34      1006\n",
            "   macro avg       0.33      0.34      0.33      1006\n",
            "weighted avg       0.33      0.34      0.33      1006\n",
            "\n"
          ]
        }
      ],
      "source": [
        "# Define the pipeline\n",
        "pipeline = Pipeline([\n",
        "    ('tfidf', TfidfVectorizer(analyzer='word', ngram_range=(1, 4), max_features=5000)),\n",
        "    ('clf', LogisticRegression(max_iter=200, solver='lbfgs'))\n",
        "])\n",
        "\n",
        "# Train the model\n",
        "pipeline.fit(train_xK, train_yK)\n",
        "\n",
        "# Test the model\n",
        "test_preds = pipeline.predict(test_xK)\n",
        "K_testK = test_preds\n",
        "\n",
        "# Evaluate the model\n",
        "print(\"Test Accuracy on kids:\", accuracy_score(test_yK, test_preds))\n",
        "print(\"\\nClassification Report:\\n\", classification_report(test_yK, test_preds))\n",
        "\n",
        "# Test the model\n",
        "test_preds = pipeline.predict(test_xD)\n",
        "K_testD = test_preds\n",
        "\n",
        "# Evaluate the model\n",
        "print(\"Test Accuracy on drama:\", accuracy_score(test_yD, test_preds))\n",
        "print(\"\\nClassification Report:\\n\", classification_report(test_yD, test_preds))\n",
        "\n",
        "# Test the model\n",
        "test_preds = pipeline.predict(test_xC)\n",
        "K_testC = test_preds\n",
        "\n",
        "# Evaluate the model\n",
        "print(\"Test Accuracy on comedy:\", accuracy_score(test_yC, test_preds))\n",
        "print(\"\\nClassification Report:\\n\", classification_report(test_yC, test_preds))"
      ]
    },
    {
      "cell_type": "code",
      "execution_count": null,
      "metadata": {},
      "outputs": [
        {
          "name": "stdout",
          "output_type": "stream",
          "text": [
            "انا اوريكي يا بقرة\n",
            "Actual value: Hijazi\n",
            "Predicted value: Hijazi\n"
          ]
        }
      ],
      "source": [
        "# See prediction on kid sentence \n",
        "print(test_xK[3670])\n",
        "print(\"Actual value: \"+test_yK[3670])\n",
        "print(\"Predicted value: \"+pipeline.predict([test_xK[3670]])[0])"
      ]
    },
    {
      "cell_type": "code",
      "execution_count": 212,
      "metadata": {},
      "outputs": [
        {
          "name": "stdout",
          "output_type": "stream",
          "text": [
            "طيب يا مناحي هذا اني نازلة\n",
            "Actual value: Najdi\n",
            "Predicted value: Najdi\n"
          ]
        }
      ],
      "source": [
        "#prediction on comedy sentence\n",
        "print(test_xC[3453])\n",
        "print(\"Actual value: \"+test_yC[3453])\n",
        "print(\"Predicted value: \"+pipeline.predict([test_xC[3453]])[0])"
      ]
    },
    {
      "cell_type": "code",
      "execution_count": null,
      "metadata": {},
      "outputs": [
        {
          "name": "stdout",
          "output_type": "stream",
          "text": [
            "وكان بينضحك عليا\n",
            "Actual value: Hijazi\n",
            "Predicted value: Khaliji\n"
          ]
        }
      ],
      "source": [
        "#prediction on drama sentence\n",
        "print(test_xD[568])\n",
        "print(\"Actual value: \"+test_yD[568])\n",
        "print(\"Predicted value: \"+pipeline.predict([test_xD[568]])[0])"
      ]
    },
    {
      "cell_type": "markdown",
      "metadata": {
        "id": "Iu5OEC4wQQAu"
      },
      "source": [
        "# McNemar's test - Comparing the results"
      ]
    },
    {
      "cell_type": "markdown",
      "metadata": {
        "id": "zkI9NtEjQQAu"
      },
      "source": [
        "We will save the predictions of each model to perform the McNamer's Test. We will be comparing each of the 3 in-domain models (trained on the same category) with its strongest cross-domain alternative.\n",
        "\n",
        "<em>To make it easy to track, we have bolded in the table the models that were selected for each test comparison.</em>"
      ]
    },
    {
      "cell_type": "markdown",
      "metadata": {
        "id": "bwi0IgK3QQAv"
      },
      "source": [
        "<table>\n",
        "    <tr>\n",
        "        <td></td>\n",
        "        <td>Test - Comedy</td>\n",
        "        <td>Test - Drama</td>\n",
        "        <td>Test - kids</td>\n",
        "    <tr>\n",
        "    <tr>\n",
        "        <td>Train-Comedy</td>\n",
        "        <td><b>0.405</b></td>\n",
        "        <td><b>0.349</b></td>\n",
        "        <td>0.351</td>\n",
        "    <tr>\n",
        "    <tr>\n",
        "        <td>Train-Drama</td>\n",
        "        <td><b>0.347</b></td>\n",
        "        <td><b>0.422</b></td>\n",
        "        <td><b>0.360</b></td>\n",
        "    <tr>\n",
        "    <tr>\n",
        "        <td>Train-Kids</td>\n",
        "        <td>0.338</td>\n",
        "        <td>0.348</td>\n",
        "        <td><b>0.494</b></td>\n",
        "    <tr>\n",
        "\n",
        "</table>"
      ]
    },
    {
      "cell_type": "code",
      "execution_count": null,
      "metadata": {
        "id": "4pw1Xuz-QQAv"
      },
      "outputs": [],
      "source": [
        "#C_testC with D_testC + C_testD with D_testD + k_testK with D_testK\n",
        "\n",
        "import pandas as pd\n",
        "\n",
        "test_comedy = pd.DataFrame({\n",
        "    'label': test_yC,\n",
        "    'model1_predictions': C_testC, #Comedy_model_predictions\n",
        "    'model2_predictions': D_testC #Drama_model_predictions\n",
        "})\n",
        "\n",
        "test_drama = pd.DataFrame({\n",
        "    'label': test_yD,\n",
        "    'model1_predictions': D_testD, #Drama_model_predictions\n",
        "    'model2_predictions': C_testD #Comedy_model_predictions\n",
        "})\n",
        "\n",
        "test_kids = pd.DataFrame({\n",
        "    'label': test_yK,\n",
        "    'model1_predictions': K_testK, #Kids_model_predictions\n",
        "    'model2_predictions': D_testK #Drama_model_predictions\n",
        "})\n",
        "\n",
        "\n",
        "test_comedy.to_csv('McNamer_Test_files/test_comedy.csv', index=False, encoding='utf-8')\n",
        "test_drama.to_csv('McNamer_Test_files/test_drama.csv', index=False, encoding='utf-8')\n",
        "test_kids.to_csv('McNamer_Test_files/test_kids.csv', index=False, encoding='utf-8')\n"
      ]
    },
    {
      "cell_type": "markdown",
      "metadata": {
        "id": "UnAprOPWQQAx"
      },
      "source": [
        "The below function revieves a file containing the predictions and performs the McNamers test.\n",
        "<br><br>\n",
        "The file format must be: <br>\n",
        "<h6> label | model1_predictions | model2_predictions </h6>"
      ]
    },
    {
      "cell_type": "code",
      "execution_count": null,
      "metadata": {
        "id": "PvmsUfLwQQAx"
      },
      "outputs": [],
      "source": [
        "from statsmodels.stats.contingency_tables import mcnemar\n",
        "import pandas as pd\n",
        "import numpy as np\n",
        "\n",
        "def perform_mcnemar_test(file):\n",
        "    \"\"\"\n",
        "    Perform McNemar's test on the predictions of two baseline models.\n",
        "    \"\"\"\n",
        "    # Read the prediction files\n",
        "    df = pd.read_csv(file, sep=',', encoding='latin1')\n",
        "    # df2 = pd.read_csv(file2, sep=',', encoding='latin1')\n",
        "\n",
        "    # Ensure both files have the same structure\n",
        "    # assert 'Label' in df1.columns and 'Label' in df2.columns, \"Files must contain a 'Label' column.\"\n",
        "    # assert len(df1) == len(df2), \"Both files must have the same number of rows.\"\n",
        "\n",
        "    # Extract true labels and predictions\n",
        "    true_labels = df['label'].values\n",
        "    predictions1 = df['model1_predictions'].values\n",
        "    predictions2 = df['model2_predictions'].values\n",
        "\n",
        "    # Compute contingency table values\n",
        "    b10 = np.sum((predictions1 != true_labels) & (predictions2 == true_labels))\n",
        "    b01 = np.sum((predictions1 == true_labels) & (predictions2 != true_labels))\n",
        "\n",
        "    # Contingency table\n",
        "    contingency_table = [[0, b01], [b10, 0]]\n",
        "\n",
        "    # Perform McNemar's test\n",
        "    result = mcnemar(contingency_table, exact=True)\n",
        "\n",
        "    return {\n",
        "        \"contingency_table\": contingency_table,\n",
        "        \"p_value\": result.pvalue\n",
        "    }"
      ]
    },
    {
      "cell_type": "markdown",
      "metadata": {
        "id": "R8H9fm10QQAz"
      },
      "source": [
        "## McNamer - Comedy Test"
      ]
    },
    {
      "cell_type": "code",
      "execution_count": null,
      "metadata": {
        "id": "qTGzFMIrQQAz",
        "outputId": "2fc41bc2-85e8-479b-c35b-81214834523d"
      },
      "outputs": [
        {
          "name": "stdout",
          "output_type": "stream",
          "text": [
            "Contingency Table: [[0, 256], [198, 0]]\n",
            "P-value: 0.007402294925029015\n",
            "The difference between the two baselines is statistically significant.\n"
          ]
        }
      ],
      "source": [
        "file = \"McNamer_Test_files/test_comedy.csv\"\n",
        "\n",
        "result_comedy = perform_mcnemar_test(file)\n",
        "print(\"Contingency Table:\", result_comedy[\"contingency_table\"])\n",
        "print(\"P-value:\", result_comedy[\"p_value\"])\n",
        "\n",
        "if result_comedy[\"p_value\"] < 0.05:\n",
        "    print(\"The difference between the two baselines is statistically significant.\")\n",
        "else:\n",
        "    print(\"No statistically significant difference between the two baselines.\")"
      ]
    },
    {
      "cell_type": "markdown",
      "metadata": {
        "id": "3834Lp1fQQA0"
      },
      "source": [
        "The p-value is less than 0.05, demonstrating that training the model solely on the comedy category and then testing it on other domains leads to significant performance differences."
      ]
    },
    {
      "cell_type": "markdown",
      "metadata": {
        "id": "0McCRiFNQQA0"
      },
      "source": [
        "## McNamer - Drama Test"
      ]
    },
    {
      "cell_type": "code",
      "execution_count": null,
      "metadata": {
        "id": "h-Spn1AMQQA0",
        "outputId": "c7875e73-74cb-4c9f-e852-559bb854ba0c"
      },
      "outputs": [
        {
          "name": "stdout",
          "output_type": "stream",
          "text": [
            "Contingency Table: [[0, 262], [188, 0]]\n",
            "P-value: 0.0005642764050526149\n",
            "The difference between the two baselines is statistically significant.\n"
          ]
        }
      ],
      "source": [
        "file = \"McNamer_Test_files/test_drama.csv\"\n",
        "\n",
        "result_drama = perform_mcnemar_test(file)\n",
        "print(\"Contingency Table:\", result_drama[\"contingency_table\"])\n",
        "print(\"P-value:\", result_drama[\"p_value\"])\n",
        "\n",
        "if result_drama[\"p_value\"] < 0.05:\n",
        "    print(\"The difference between the two baselines is statistically significant.\")\n",
        "else:\n",
        "    print(\"No statistically significant difference between the two baselines.\")"
      ]
    },
    {
      "cell_type": "markdown",
      "metadata": {
        "id": "w76YZ33dQQA0"
      },
      "source": [
        "Similar to the comedy-trained model, testing the drama-trained model on other domains leads to significant performance differences."
      ]
    },
    {
      "cell_type": "markdown",
      "metadata": {
        "id": "RsheHNgJQQA1"
      },
      "source": [
        "## McNamer - Kid Test"
      ]
    },
    {
      "cell_type": "code",
      "execution_count": null,
      "metadata": {
        "id": "5YZbyB1yQQA1",
        "outputId": "495053e9-406b-440c-cc01-f090307fa7d2"
      },
      "outputs": [
        {
          "name": "stdout",
          "output_type": "stream",
          "text": [
            "Contingency Table: [[0, 290], [155, 0]]\n",
            "P-value: 1.5474230046748199e-10\n",
            "The difference between the two baselines is statistically significant.\n"
          ]
        }
      ],
      "source": [
        "file = \"McNamer_Test_files/test_kids.csv\"\n",
        "\n",
        "result_kids = perform_mcnemar_test(file)\n",
        "print(\"Contingency Table:\", result_kids[\"contingency_table\"])\n",
        "print(\"P-value:\", result_kids[\"p_value\"])\n",
        "\n",
        "if result_kids[\"p_value\"] < 0.05:\n",
        "    print(\"The difference between the two baselines is statistically significant.\")\n",
        "else:\n",
        "    print(\"No statistically significant difference between the two baselines.\")"
      ]
    },
    {
      "cell_type": "markdown",
      "metadata": {
        "id": "KXuD5gWqQQA1"
      },
      "source": [
        "Similar to the previous two models, the model trained on the kids category experiences a significant drop in performance when tested on out-of-domain categories. However, it is noticeable that the kids-trained model struggles even more than the previous models (trained on comedy or drama) when it comes to generalizing across domains.\n",
        "\n",
        "This suggests that the characteristics of kids' content are more specialized, making it harder for the model to adapt to different contexts."
      ]
    },
    {
      "cell_type": "markdown",
      "metadata": {
        "id": "NTUqrrGrQQA2"
      },
      "source": [
        "# BERT-Based Multi-Domain Dialect"
      ]
    },
    {
      "cell_type": "markdown",
      "metadata": {
        "id": "JlGRuCrlLgCO"
      },
      "source": [
        "This section will try a more advanced model to recognize and distinguish between different Arabic dialects across multiple domains. We will use a pre-trained multilingual BERT model, which we will train based on the domain and then evaluate across the other domains. This will help us analyze how domain shifts affect model performance and set the ground for statistical comparison using McNemar’s test to see whether model differences are significant."
      ]
    },
    {
      "cell_type": "markdown",
      "metadata": {
        "id": "9FqRX5gXpq30"
      },
      "source": [
        "## Data Cleaning"
      ]
    },
    {
      "cell_type": "markdown",
      "metadata": {
        "id": "qRf2G5lCQ_RY"
      },
      "source": [
        "We clean the datasets by dropping any rows that contain missing text to ensures that the BERT model receives only complete and meaningful inputs during training and evaluation.<br>\n",
        "After cleaning, we use Label Encoding to transform the dialect categories (such as \"Najdi\", \"Hijazi\", \"Khaliji\") into numerical labels, as BERT require numerical targets rather than text labels to calculate loss and optimize predictions."
      ]
    },
    {
      "cell_type": "code",
      "execution_count": null,
      "metadata": {},
      "outputs": [],
      "source": [
        "import pandas as pd\n",
        "from sklearn.preprocessing import LabelEncoder\n",
        "from sklearn.model_selection import train_test_split\n",
        "from transformers import BertTokenizer, BertForSequenceClassification\n",
        "from torch.optim import AdamW\n",
        "import torch\n",
        "from torch.utils.data import Dataset, DataLoader\n",
        "from sklearn.metrics import classification_report, accuracy_score\n",
        "from transformers import get_scheduler\n",
        "\n",
        "# Load datasets\n",
        "comedy_df = pd.read_csv(\"balanced_data_comedy.csv\")\n",
        "drama_df = pd.read_csv(\"balanced_data_drama.csv\")\n",
        "kid_df = pd.read_csv(\"balanced_data_kid.csv\")\n",
        "\n",
        "# Clean the datasets\n",
        "comedy_df = comedy_df.dropna(subset=['ProcessedText', 'SpeakerDialect'])\n",
        "drama_df = drama_df.dropna(subset=['ProcessedText', 'SpeakerDialect'])\n",
        "kid_df = kid_df.dropna(subset=['ProcessedText', 'SpeakerDialect'])\n",
        "\n",
        "# Create one LabelEncoder and fit it on all dialects across datasets\n",
        "label_encoder = LabelEncoder()\n",
        "label_encoder.fit(\n",
        "    pd.concat([comedy_df[\"SpeakerDialect\"], drama_df[\"SpeakerDialect\"], kid_df[\"SpeakerDialect\"]])\n",
        ")\n",
        "\n",
        "# Encode 'SpeakerDialect' into 'label'\n",
        "comedy_df[\"label\"] = label_encoder.transform(comedy_df[\"SpeakerDialect\"])\n",
        "drama_df[\"label\"] = label_encoder.transform(drama_df[\"SpeakerDialect\"])\n",
        "kid_df[\"label\"] = label_encoder.transform(kid_df[\"SpeakerDialect\"])\n",
        "\n",
        "# Split each dataset into train/test (80/20)\n",
        "comedy_train, comedy_test = train_test_split(comedy_df, test_size=0.2, shuffle=True, random_state=42)\n",
        "drama_train, drama_test = train_test_split(drama_df, test_size=0.2, shuffle=True, random_state=42)\n",
        "kid_train, kid_test = train_test_split(kid_df, test_size=0.2, shuffle=True, random_state=42)\n",
        "\n",
        "# Organize splits in a dictionary for easy access\n",
        "datasets = {\n",
        "    \"comedy\": {\"train\": comedy_train, \"test\": comedy_test},\n",
        "    \"drama\": {\"train\": drama_train, \"test\": drama_test},\n",
        "    \"kid\": {\"train\": kid_train, \"test\": kid_test}\n",
        "}\n"
      ]
    },
    {
      "cell_type": "markdown",
      "metadata": {
        "id": "G4FiG5t4qXvb"
      },
      "source": [
        "## Preparing the BERT Input Pipeline"
      ]
    },
    {
      "cell_type": "markdown",
      "metadata": {
        "id": "2UQWevkbL9VM"
      },
      "source": [
        "Before training the BERT model, we prepare the input pipeline by setting up the tokenizer and dataset structure.<br>\n",
        "We initialize a multilingual BERT tokenizer (bert-base-multilingual-cased) that converts the raw text into numerical token IDs that the model can understand. Additionally, we define a custom dataset class, BertTextDataset, to format each text sample into token IDs, attention masks, and labels, making it ready for batch processing during training and evaluation."
      ]
    },
    {
      "cell_type": "code",
      "execution_count": null,
      "metadata": {
        "id": "xrwV34ExQQA2"
      },
      "outputs": [],
      "source": [
        "# Initialize tokenizer and device\n",
        "tokenizer = BertTokenizer.from_pretrained(\"bert-base-multilingual-cased\")\n",
        "device = torch.device(\"cuda\" if torch.cuda.is_available() else \"cpu\")\n",
        "\n",
        "# Dataset class for BERT\n",
        "class BertTextDataset(Dataset):\n",
        "    def __init__(self, dataframe, tokenizer, max_len=128):\n",
        "        self.texts = dataframe[\"ProcessedText\"].tolist()\n",
        "        self.labels = dataframe[\"label\"].tolist()\n",
        "        self.tokenizer = tokenizer\n",
        "        self.max_len = max_len\n",
        "\n",
        "    def __len__(self):\n",
        "        return len(self.texts)\n",
        "\n",
        "    def __getitem__(self, idx):\n",
        "        encoding = self.tokenizer(\n",
        "            self.texts[idx],\n",
        "            padding=\"max_length\",\n",
        "            truncation=True,\n",
        "            max_length=self.max_len,\n",
        "            return_tensors=\"pt\"\n",
        "        )\n",
        "        return {\n",
        "            \"input_ids\": encoding[\"input_ids\"].squeeze(0),\n",
        "            \"attention_mask\": encoding[\"attention_mask\"].squeeze(0),\n",
        "            \"label\": torch.tensor(self.labels[idx])\n",
        "        }"
      ]
    },
    {
      "cell_type": "markdown",
      "metadata": {
        "id": "99G-Dk7Sqerr"
      },
      "source": [
        "## Train and Test Splitting"
      ]
    },
    {
      "cell_type": "markdown",
      "metadata": {
        "id": "0n2IhpX1Q2DD"
      },
      "source": [
        "In this stage, we move to training and evaluating our BERT-based classifier.\n",
        "We aim to fine-tune a pre-trained BERT model to recognize and predict the speaker’s dialect based on the text content.<br>\n",
        "To make this process effective, we start by fine-tuning the BERT model separately for each domain—comedy, Drama, and Kid.<br>\n",
        "This allows us to see how well the model performs when explicitly trained on a specific type of content and whether it can generalize across other domains.\n",
        "During training, we use the AdamW optimizer, which is commonly used for training transformer models because it handles weight decay correctly, helping the model converge faster and more reliably. <br>\n",
        "At the same time, we apply a linear learning rate scheduler, which gradually reduces the learning rate as training progresses. This helps the model make significant updates early on when it’s still far from the optimum and more minor.<br>"
      ]
    },
    {
      "cell_type": "code",
      "execution_count": null,
      "metadata": {
        "id": "Dsd94KmEQQA3"
      },
      "outputs": [],
      "source": [
        "def train_model(train_df, model, tokenizer, num_labels=3, num_epochs=10):\n",
        "    train_dataset = BertTextDataset(train_df, tokenizer)\n",
        "    train_loader = DataLoader(train_dataset, batch_size=16, shuffle=True)\n",
        "\n",
        "    optimizer = AdamW(model.parameters(), lr=2e-5)\n",
        "    num_training_steps = num_epochs * len(train_loader)\n",
        "\n",
        "    lr_scheduler = get_scheduler(\n",
        "        \"linear\",\n",
        "        optimizer=optimizer,\n",
        "        num_warmup_steps=0,\n",
        "        num_training_steps=num_training_steps\n",
        "    )\n",
        "\n",
        "    model.train()\n",
        "    for epoch in range(num_epochs):\n",
        "        total_loss = 0\n",
        "        for batch in train_loader:\n",
        "            batch = {k: v.to(device) for k, v in batch.items()}\n",
        "            labels = batch.pop(\"label\")\n",
        "            outputs = model(**batch, labels=labels)\n",
        "            loss = outputs.loss\n",
        "            total_loss += loss.item()\n",
        "            loss.backward()\n",
        "            optimizer.step()\n",
        "            optimizer.zero_grad()\n",
        "            lr_scheduler.step()\n",
        "        print(f\"Epoch {epoch+1} - Loss: {total_loss / len(train_loader):.4f}\")\n",
        "\n",
        "def evaluate_model(test_df, model, tokenizer):\n",
        "    test_dataset = BertTextDataset(test_df, tokenizer)\n",
        "    test_loader = DataLoader(test_dataset, batch_size=16)\n",
        "\n",
        "    model.eval()\n",
        "    all_preds, all_labels = [], []\n",
        "\n",
        "    with torch.no_grad():\n",
        "        for batch in test_loader:\n",
        "            batch = {k: v.to(device) for k, v in batch.items()}\n",
        "            labels = batch.pop(\"label\")\n",
        "            outputs = model(**batch)\n",
        "            preds = torch.argmax(outputs.logits, dim=1)\n",
        "            all_preds.extend(preds.cpu().numpy())\n",
        "            all_labels.extend(labels.cpu().numpy())\n",
        "\n",
        "    accuracy = accuracy_score(all_labels, all_preds)\n",
        "    print(f\"Test Accuracy on {test_df['Category'].iloc[0]}: {accuracy:.4f}\")\n",
        "    print(\"\\nClassification Report:\")\n",
        "    print(classification_report(all_labels, all_preds, target_names=label_encoder.classes_))\n",
        "\n",
        "    return all_labels, all_preds"
      ]
    },
    {
      "cell_type": "code",
      "execution_count": null,
      "metadata": {
        "id": "N2OmMI2yQQA3"
      },
      "outputs": [],
      "source": [
        "test_labels_comedy = datasets[\"comedy\"][\"test\"][\"label\"]\n",
        "test_labels_drama = datasets[\"drama\"][\"test\"][\"label\"]\n",
        "test_labels_kid = datasets[\"kid\"][\"test\"][\"label\"]"
      ]
    },
    {
      "cell_type": "markdown",
      "metadata": {
        "id": "NCoY4RLuqiNN"
      },
      "source": [
        "# Cross-Domain (Out-of-Domain) Evaluation\n"
      ]
    },
    {
      "cell_type": "markdown",
      "metadata": {
        "id": "XCCd0xqHXf_p"
      },
      "source": [
        "Following the same methodology used in the Logistic Regression experiments, we apply cross-domain evaluation using a BERT-based model with only minor adjustments.<br>\n",
        "As before, the goal is to assess the model’s generalization ability by training it in one genre (e.g., drama) and testing it on others (e.g., comedy and kids).<br>\n",
        "This process enables us to compare whether a deep learning model like BERT can generalize better across domains than a classical machine learning model."
      ]
    },
    {
      "cell_type": "markdown",
      "metadata": {
        "id": "2-Ui52Z-QQA4"
      },
      "source": [
        "#### Comedy training and testing"
      ]
    },
    {
      "cell_type": "code",
      "execution_count": null,
      "metadata": {
        "colab": {
          "base_uri": "https://localhost:8080/"
        },
        "id": "t0gw3NKvQQA4",
        "outputId": "b27ac5ea-5f50-4d2c-a647-7cab03b565f8"
      },
      "outputs": [
        {
          "name": "stdout",
          "output_type": "stream",
          "text": [
            "\n",
            "Training on Comedy\n"
          ]
        },
        {
          "name": "stderr",
          "output_type": "stream",
          "text": [
            "Some weights of BertForSequenceClassification were not initialized from the model checkpoint at bert-base-multilingual-cased and are newly initialized: ['classifier.bias', 'classifier.weight']\n",
            "You should probably TRAIN this model on a down-stream task to be able to use it for predictions and inference.\n"
          ]
        },
        {
          "name": "stdout",
          "output_type": "stream",
          "text": [
            "Epoch 1 - Loss: 1.1019\n",
            "Epoch 2 - Loss: 1.1012\n",
            "Epoch 3 - Loss: 1.0911\n",
            "Epoch 4 - Loss: 1.0412\n",
            "Epoch 5 - Loss: 0.8889\n",
            "Epoch 6 - Loss: 0.6808\n",
            "Epoch 7 - Loss: 0.4802\n",
            "Epoch 8 - Loss: 0.3511\n",
            "Epoch 9 - Loss: 0.2612\n",
            "Epoch 10 - Loss: 0.2199\n",
            "\n",
            "Testing on Comedy\n",
            "Test Accuracy on كوميدي: 0.3946\n",
            "\n",
            "Classification Report:\n",
            "              precision    recall  f1-score   support\n",
            "\n",
            "      Hijazi       0.36      0.41      0.39       317\n",
            "     Khaliji       0.42      0.34      0.38       339\n",
            "       Najdi       0.41      0.43      0.42       350\n",
            "\n",
            "    accuracy                           0.39      1006\n",
            "   macro avg       0.40      0.39      0.39      1006\n",
            "weighted avg       0.40      0.39      0.39      1006\n",
            "\n",
            "\n",
            "Testing on Drama\n",
            "Test Accuracy on درامي: 0.3410\n",
            "\n",
            "Classification Report:\n",
            "              precision    recall  f1-score   support\n",
            "\n",
            "      Hijazi       0.36      0.36      0.36       341\n",
            "     Khaliji       0.35      0.28      0.31       324\n",
            "       Najdi       0.32      0.37      0.34       341\n",
            "\n",
            "    accuracy                           0.34      1006\n",
            "   macro avg       0.34      0.34      0.34      1006\n",
            "weighted avg       0.34      0.34      0.34      1006\n",
            "\n",
            "\n",
            "Testing on Kid\n",
            "Test Accuracy on اطفال: 0.3608\n",
            "\n",
            "Classification Report:\n",
            "              precision    recall  f1-score   support\n",
            "\n",
            "      Hijazi       0.37      0.48      0.42       336\n",
            "     Khaliji       0.31      0.20      0.24       335\n",
            "       Najdi       0.38      0.41      0.39       335\n",
            "\n",
            "    accuracy                           0.36      1006\n",
            "   macro avg       0.35      0.36      0.35      1006\n",
            "weighted avg       0.35      0.36      0.35      1006\n",
            "\n"
          ]
        }
      ],
      "source": [
        "print(\"\\nTraining on Comedy\")\n",
        "\n",
        "model = BertForSequenceClassification.from_pretrained(\"bert-base-multilingual-cased\", num_labels=3).to(device)\n",
        "\n",
        "# Train\n",
        "train_df = datasets[\"comedy\"][\"train\"]\n",
        "train_model(train_df, model, tokenizer)\n",
        "\n",
        "# Test on Comedy\n",
        "print(\"\\nTesting on Comedy\")\n",
        "test_df = datasets[\"comedy\"][\"test\"]\n",
        "true_labels_Comedy, preds_Comedy = evaluate_model(test_df, model, tokenizer)\n",
        "Comedy_train_Comedy = true_labels_Comedy\n",
        "Comedy_test_Comedy = preds_Comedy\n",
        "\n",
        "# Test on Drama\n",
        "print(\"\\nTesting on Drama\")\n",
        "test_df = datasets[\"drama\"][\"test\"]\n",
        "true_labels_Drama, preds_Drama = evaluate_model(test_df, model, tokenizer)\n",
        "Comedy_train_Drama = true_labels_Drama\n",
        "Comedy_test_Drama = preds_Drama\n",
        "\n",
        "# Test on Kid\n",
        "print(\"\\nTesting on Kid\")\n",
        "test_df = datasets[\"kid\"][\"test\"]\n",
        "Comedy_true_labels_Kid, Comedy_preds_Kid = evaluate_model(test_df, model, tokenizer)\n",
        "Comedy_train_Kid = Comedy_true_labels_Kid\n",
        "Comedy_test_Kid = Comedy_preds_Kid"
      ]
    },
    {
      "cell_type": "markdown",
      "metadata": {
        "id": "iC0rzwuJQQA4"
      },
      "source": [
        "#### Drama training and testing"
      ]
    },
    {
      "cell_type": "code",
      "execution_count": null,
      "metadata": {
        "colab": {
          "base_uri": "https://localhost:8080/"
        },
        "id": "QApWrqdCQQA5",
        "outputId": "18b7f408-1e20-45af-c6f1-a848b11fe14a"
      },
      "outputs": [
        {
          "name": "stdout",
          "output_type": "stream",
          "text": [
            "\n",
            "Training on Drama\n",
            "Epoch 1 - Loss: 1.1493\n",
            "Epoch 2 - Loss: 1.0786\n",
            "Epoch 3 - Loss: 1.0131\n",
            "Epoch 4 - Loss: 0.8835\n",
            "Epoch 5 - Loss: 0.6761\n",
            "Epoch 6 - Loss: 0.5031\n",
            "Epoch 7 - Loss: 0.3654\n",
            "Epoch 8 - Loss: 0.2754\n",
            "Epoch 9 - Loss: 0.2173\n",
            "Epoch 10 - Loss: 0.1882\n",
            "\n",
            "Testing on Comedy\n",
            "Test Accuracy on كوميدي: 0.3966\n",
            "\n",
            "Classification Report:\n",
            "              precision    recall  f1-score   support\n",
            "\n",
            "      Hijazi       0.40      0.34      0.37       317\n",
            "     Khaliji       0.42      0.40      0.41       339\n",
            "       Najdi       0.38      0.44      0.41       350\n",
            "\n",
            "    accuracy                           0.40      1006\n",
            "   macro avg       0.40      0.40      0.40      1006\n",
            "weighted avg       0.40      0.40      0.40      1006\n",
            "\n",
            "\n",
            "Testing on Drama\n",
            "Test Accuracy on درامي: 0.4066\n",
            "\n",
            "Classification Report:\n",
            "              precision    recall  f1-score   support\n",
            "\n",
            "      Hijazi       0.49      0.49      0.49       341\n",
            "     Khaliji       0.35      0.36      0.36       324\n",
            "       Najdi       0.37      0.37      0.37       341\n",
            "\n",
            "    accuracy                           0.41      1006\n",
            "   macro avg       0.41      0.41      0.41      1006\n",
            "weighted avg       0.41      0.41      0.41      1006\n",
            "\n",
            "\n",
            "Testing on Kid\n",
            "Test Accuracy on اطفال: 0.3340\n",
            "\n",
            "Classification Report:\n",
            "              precision    recall  f1-score   support\n",
            "\n",
            "      Hijazi       0.35      0.40      0.37       336\n",
            "     Khaliji       0.33      0.27      0.30       335\n",
            "       Najdi       0.32      0.33      0.33       335\n",
            "\n",
            "    accuracy                           0.33      1006\n",
            "   macro avg       0.33      0.33      0.33      1006\n",
            "weighted avg       0.33      0.33      0.33      1006\n",
            "\n"
          ]
        }
      ],
      "source": [
        "print(\"\\nTraining on Drama\")\n",
        "\n",
        "# Train\n",
        "train_df = datasets[\"drama\"][\"train\"]\n",
        "train_model(train_df, model, tokenizer)\n",
        "\n",
        "# Test on Comedy\n",
        "print(\"\\nTesting on Comedy\")\n",
        "test_df = datasets[\"comedy\"][\"test\"]\n",
        "true_labels_Comedy, preds_Comedy = evaluate_model(test_df, model, tokenizer)\n",
        "Drama_train_Comedy = true_labels_Comedy\n",
        "Drama_test_Comedy = preds_Comedy\n",
        "\n",
        "# Test on Drama\n",
        "print(\"\\nTesting on Drama\")\n",
        "test_df = datasets[\"drama\"][\"test\"]\n",
        "true_labels_Drama, preds_Drama = evaluate_model(test_df, model, tokenizer)\n",
        "Drama_train_Drama = true_labels_Drama\n",
        "Drama_test_Drama = preds_Drama\n",
        "\n",
        "# Test on Kid\n",
        "print(\"\\nTesting on Kid\")\n",
        "test_df = datasets[\"kid\"][\"test\"]\n",
        "true_labels_Kid, preds_Kid = evaluate_model(test_df, model, tokenizer)\n",
        "Drama_train_Kid = true_labels_Kid\n",
        "Drama_test_Kid = preds_Kid"
      ]
    },
    {
      "cell_type": "markdown",
      "metadata": {
        "id": "ExpowFUHQQA5"
      },
      "source": [
        "#### Kid training and testing"
      ]
    },
    {
      "cell_type": "code",
      "execution_count": null,
      "metadata": {
        "colab": {
          "base_uri": "https://localhost:8080/"
        },
        "id": "_jbBbU3aQQA5",
        "outputId": "7f167790-e0b9-40e1-93e8-20fa90087b16"
      },
      "outputs": [
        {
          "name": "stdout",
          "output_type": "stream",
          "text": [
            "\n",
            "Training on Kid\n",
            "Epoch 1 - Loss: 0.2089\n",
            "Epoch 2 - Loss: 0.1985\n",
            "Epoch 3 - Loss: 0.1503\n",
            "Epoch 4 - Loss: 0.1317\n",
            "Epoch 5 - Loss: 0.1027\n",
            "Epoch 6 - Loss: 0.0929\n",
            "Epoch 7 - Loss: 0.0794\n",
            "Epoch 8 - Loss: 0.0672\n",
            "Epoch 9 - Loss: 0.0603\n",
            "Epoch 10 - Loss: 0.0528\n",
            "\n",
            "Testing on Kid\n",
            "Test Accuracy on اطفال: 0.4722\n",
            "\n",
            "Classification Report:\n",
            "              precision    recall  f1-score   support\n",
            "\n",
            "      Hijazi       0.42      0.42      0.42       336\n",
            "     Khaliji       0.46      0.46      0.46       335\n",
            "       Najdi       0.53      0.54      0.53       335\n",
            "\n",
            "    accuracy                           0.47      1006\n",
            "   macro avg       0.47      0.47      0.47      1006\n",
            "weighted avg       0.47      0.47      0.47      1006\n",
            "\n",
            "\n",
            "Testing on Comedy\n",
            "Test Accuracy on كوميدي: 0.3479\n",
            "\n",
            "Classification Report:\n",
            "              precision    recall  f1-score   support\n",
            "\n",
            "      Hijazi       0.36      0.30      0.33       317\n",
            "     Khaliji       0.33      0.27      0.30       339\n",
            "       Najdi       0.35      0.46      0.40       350\n",
            "\n",
            "    accuracy                           0.35      1006\n",
            "   macro avg       0.35      0.35      0.34      1006\n",
            "weighted avg       0.35      0.35      0.34      1006\n",
            "\n",
            "\n",
            "Testing on Drama\n",
            "Test Accuracy on درامي: 0.3608\n",
            "\n",
            "Classification Report:\n",
            "              precision    recall  f1-score   support\n",
            "\n",
            "      Hijazi       0.37      0.35      0.36       341\n",
            "     Khaliji       0.32      0.27      0.30       324\n",
            "       Najdi       0.38      0.46      0.42       341\n",
            "\n",
            "    accuracy                           0.36      1006\n",
            "   macro avg       0.36      0.36      0.36      1006\n",
            "weighted avg       0.36      0.36      0.36      1006\n",
            "\n"
          ]
        }
      ],
      "source": [
        "print(\"\\nTraining on Kid\")\n",
        "\n",
        "# Train\n",
        "train_df = datasets[\"kid\"][\"train\"]\n",
        "train_model(train_df, model, tokenizer)\n",
        "\n",
        "# Test on Kid\n",
        "print(\"\\nTesting on Kid\")\n",
        "test_df = datasets[\"kid\"][\"test\"]\n",
        "true_labels_Kid, preds_Kid = evaluate_model(test_df, model, tokenizer)\n",
        "Kid_train_Kid = true_labels_Kid\n",
        "Kid_test_Kid = preds_Kid\n",
        "\n",
        "# Test on Comedy\n",
        "print(\"\\nTesting on Comedy\")\n",
        "test_df = datasets[\"comedy\"][\"test\"]\n",
        "true_labels_Comedy, preds_Comedy = evaluate_model(test_df, model, tokenizer)\n",
        "Kid_train_Comedy = true_labels_Comedy\n",
        "Kid_test_Comedy = preds_Comedy\n",
        "\n",
        "# Test on Drama\n",
        "print(\"\\nTesting on Drama\")\n",
        "test_df = datasets[\"drama\"][\"test\"]\n",
        "true_labels_Drama, preds_Drama = evaluate_model(test_df, model, tokenizer)\n",
        "Kid_train_Drama = true_labels_Drama\n",
        "Kid_test_Drama = preds_Drama\n",
        "\n"
      ]
    },
    {
      "cell_type": "code",
      "execution_count": null,
      "metadata": {},
      "outputs": [
        {
          "name": "stdout",
          "output_type": "stream",
          "text": [
            "انا اوريكي يا بقرة\n",
            "Actual value: Hijazi\n",
            "Predicted value: Hijazi\n"
          ]
        }
      ],
      "source": [
        "# See prediction on kid sentence \n",
        "print(datasets[\"kid\"][\"test\"]['ProcessedText'].iloc[2])\n",
        "print(\"Actual value: \"+datasets[\"kid\"][\"test\"]['SpeakerDialect'].iloc[2])\n",
        "print(\"Predicted value: \"+evaluate_model(datasets[\"kid\"][\"test\"]['ProcessedText'].iloc[2], model, tokenizer))"
      ]
    },
    {
      "cell_type": "code",
      "execution_count": null,
      "metadata": {},
      "outputs": [
        {
          "name": "stdout",
          "output_type": "stream",
          "text": [
            "\n",
            "طيب يا مناحي هذا اني نازلة\n",
            "Actual value: Najdi\n",
            "Predicted value: Khaliji\n"
          ]
        }
      ],
      "source": [
        "# See prediction on comedy sentence \n",
        "print(datasets[\"comedy\"][\"test\"]['ProcessedText'].iloc[34])\n",
        "print(\"Actual value: \"+datasets[\"comedy\"][\"test\"]['SpeakerDialect'].iloc[34])\n",
        "print(\"Predicted value: \"+evaluate_model(datasets[\"comedy\"][\"test\"]['ProcessedText'].iloc[34], model, tokenizer))"
      ]
    },
    {
      "cell_type": "code",
      "execution_count": null,
      "metadata": {},
      "outputs": [
        {
          "name": "stdout",
          "output_type": "stream",
          "text": [
            "\n",
            "وكان بينضحك عليا\n",
            "Actual value: Hijazi\n",
            "Predicted value: Hijazi\n"
          ]
        }
      ],
      "source": [
        "# See prediction on drama sentence \n",
        "print(datasets[\"drama\"][\"test\"]['ProcessedText'].iloc[107])\n",
        "print(\"Actual value: \"+datasets[\"drama\"][\"test\"]['SpeakerDialect'].iloc[107])\n",
        "print(\"Predicted value: \"+evaluate_model(datasets[\"drama\"][\"test\"]['ProcessedText'].iloc[107], model, tokenizer))"
      ]
    },
    {
      "cell_type": "markdown",
      "metadata": {
        "id": "teut1nmuQQA5"
      },
      "source": [
        "# McNemar's test - Comparing the results"
      ]
    },
    {
      "cell_type": "markdown",
      "metadata": {
        "id": "FXOQTBcEdan9"
      },
      "source": [
        "Similarly to the Logistic Regression experiments, we will save the predictions of each BERT-based model to perform McNemar’s Test.\n",
        "As before, the objective is to compare each in-domain model (trained and tested on the same genre) against its strongest cross-domain alternative (trained on a different genre but tested on the same target domain).<br>\n",
        "\n",
        "<em>For easier tracking, we will highlight the selected models for each McNemar comparison just like we did previously.</em>"
      ]
    },
    {
      "cell_type": "markdown",
      "metadata": {
        "id": "UbwsPvtJo_5-"
      },
      "source": [
        "<table>\n",
        "    <tr>\n",
        "        <td></td>\n",
        "        <td>Test - Comedy</td>\n",
        "        <td>Test - Drama</td>\n",
        "        <td>Test - kids</td>\n",
        "    <tr>\n",
        "    <tr>\n",
        "        <td>Train-Comedy</td>\n",
        "        <td><b>0.3946</b></td>\n",
        "        <td>0.3410</td>\n",
        "        <td><b>0.3608</b></td>\n",
        "    <tr>\n",
        "    <tr>\n",
        "        <td>Train-Drama</td>\n",
        "        <td><b>0.3966</b></td>\n",
        "        <td><b>0.4066</b></td>\n",
        "        <td>0.3340</b></td>\n",
        "    <tr>\n",
        "    <tr>\n",
        "        <td>Train-Kids</td>\n",
        "        <td>0.3479</td>\n",
        "        <td><b>0.3608</b></td>\n",
        "        <td><b>0.4722</b></td>\n",
        "    <tr>\n",
        "\n",
        "</table>"
      ]
    },
    {
      "cell_type": "code",
      "execution_count": null,
      "metadata": {
        "id": "yk7zwT6iQQA6"
      },
      "outputs": [],
      "source": [
        "# Create test set for COMEDY\n",
        "test_comedy = pd.DataFrame({\n",
        "    'label': test_labels_comedy,\n",
        "    'comedy_predictions': Comedy_test_Comedy, # traind on Comedy and tested on Comedy\n",
        "    'drama_predictions': Drama_test_Comedy, # traind on Drama and tested on Comedy\n",
        "    'kid_predictions': Kid_test_Comedy # traind on Kid and tested on Comedy\n",
        "})\n",
        "\n",
        "# Create test set for DRAMA\n",
        "test_drama = pd.DataFrame({\n",
        "    'label': test_labels_drama,\n",
        "    'comedy_predictions': Comedy_test_Drama, # traind on Comedy and tested on Drama\n",
        "    'drama_predictions': Drama_test_Drama, # traind on Drama and tested on Drama\n",
        "    'kid_predictions': Kid_test_Drama # traind on Kid and tested on Drama\n",
        "})\n",
        "\n",
        "# Create test set for KID\n",
        "test_kid = pd.DataFrame({\n",
        "    'label': test_labels_kid,\n",
        "    'comedy_predictions': Comedy_test_Kid, # traind on Comedy and tested on Kid\n",
        "    'drama_predictions': Drama_test_Kid, # traind on Drama and tested on Kid\n",
        "    'kid_predictions': Kid_test_Kid # traind on Kid and tested on Kid\n",
        "})\n",
        "\n",
        "test_comedy.to_csv('McNamer_Test_files/test_comedy.csv', index=False, encoding='utf-8')\n",
        "test_drama.to_csv('McNamer_Test_files/test_drama.csv', index=False, encoding='utf-8')\n",
        "test_kid.to_csv('McNamer_Test_files/test_kid.csv', index=False, encoding='utf-8')\n"
      ]
    },
    {
      "cell_type": "code",
      "execution_count": null,
      "metadata": {
        "id": "jMjL57HQfyCL"
      },
      "outputs": [],
      "source": [
        "from statsmodels.stats.contingency_tables import mcnemar\n",
        "import pandas as pd\n",
        "import numpy as np\n",
        "\n",
        "def perform_mcnemar_test(file, genre1, genre2):\n",
        "    \"\"\"\n",
        "    Perform McNemar's test on the predictions of two baseline models.\n",
        "    \"\"\"\n",
        "    # Read the prediction files\n",
        "    df = pd.read_csv(file, sep=',', encoding='latin1')\n",
        "    # df2 = pd.read_csv(file2, sep=',', encoding='latin1')\n",
        "\n",
        "    # Ensure both files have the same structure\n",
        "    # assert 'Label' in df1.columns and 'Label' in df2.columns, \"Files must contain a 'Label' column.\"\n",
        "    # assert len(df1) == len(df2), \"Both files must have the same number of rows.\"\n",
        "\n",
        "    # Extract true labels and predictions\n",
        "    true_labels = df['label'].values\n",
        "    predictions1 = df[genre1 + '_predictions'].values\n",
        "    predictions2 = df[genre2 + '_predictions'].values\n",
        "\n",
        "\n",
        "    # Compute contingency table values\n",
        "    b10 = np.sum((predictions1 != true_labels) & (predictions2 == true_labels))\n",
        "    b01 = np.sum((predictions1 == true_labels) & (predictions2 != true_labels))\n",
        "\n",
        "    # Contingency table\n",
        "    contingency_table = [[0, b01], [b10, 0]]\n",
        "\n",
        "    # Perform McNemar's test\n",
        "    result = mcnemar(contingency_table, exact=True)\n",
        "\n",
        "    return {\n",
        "        \"contingency_table\": contingency_table,\n",
        "        \"p_value\": result.pvalue\n",
        "    }"
      ]
    },
    {
      "cell_type": "markdown",
      "metadata": {
        "id": "ZFrMsdNZgnZf"
      },
      "source": [
        "# Comedy Mcnamer test"
      ]
    },
    {
      "cell_type": "code",
      "execution_count": null,
      "metadata": {
        "colab": {
          "base_uri": "https://localhost:8080/"
        },
        "id": "D9d5UwWLMJVg",
        "outputId": "b53aef70-1603-464d-f430-6748da3c16c0"
      },
      "outputs": [
        {
          "name": "stdout",
          "output_type": "stream",
          "text": [
            "Contingency Table: [[0, np.int64(216)], [np.int64(213), 0]]\n",
            "P-value: 0.9230899076571981\n",
            "No statistically significant difference between the two models.\n"
          ]
        }
      ],
      "source": [
        "file = \"McNamer_Test_files/test_comedy.csv\"\n",
        "\n",
        "result_comedy = perform_mcnemar_test(file, \"comedy\", \"drama\")\n",
        "print(\"Contingency Table:\", result_comedy[\"contingency_table\"])\n",
        "print(\"P-value:\", result_comedy[\"p_value\"])\n",
        "\n",
        "if result_comedy[\"p_value\"] < 0.05:\n",
        "    print(\"The difference between the two models is statistically significant.\")\n",
        "else:\n",
        "    print(\"No statistically significant difference between the two models.\")"
      ]
    },
    {
      "cell_type": "markdown",
      "metadata": {
        "id": "9Cm4hr4IpkvG"
      },
      "source": [
        "Since this p-value is greater than the common significance threshold of 0.05, we conclude there is no statistically significant difference between the two models’ behaviors. Although the two models disagreed on several individual predictions, the difference between their overall performances is insignificant enough to be considered meaningful. This suggests that both models generalize similarly to the Comedy domain, even though they were trained in different genres (Comedy vs. Drama).\n"
      ]
    },
    {
      "cell_type": "markdown",
      "metadata": {
        "id": "XuA1jXOQlaTc"
      },
      "source": [
        "# Drama Mcnamer test"
      ]
    },
    {
      "cell_type": "code",
      "execution_count": null,
      "metadata": {
        "colab": {
          "base_uri": "https://localhost:8080/"
        },
        "id": "BK3cnBJ0MMvu",
        "outputId": "d310bb06-7ade-4ab5-95b5-a6ca0dd17033"
      },
      "outputs": [
        {
          "name": "stdout",
          "output_type": "stream",
          "text": [
            "Contingency Table: [[0, np.int64(212)], [np.int64(166), 0]]\n",
            "P-value: 0.020515508194058278\n",
            "The difference between the two models is statistically significant.\n"
          ]
        }
      ],
      "source": [
        "file = \"McNamer_Test_files/test_drama.csv\"\n",
        "\n",
        "result_comedy = perform_mcnemar_test(file, \"drama\", \"kid\")\n",
        "print(\"Contingency Table:\", result_comedy[\"contingency_table\"])\n",
        "print(\"P-value:\", result_comedy[\"p_value\"])\n",
        "\n",
        "if result_comedy[\"p_value\"] < 0.05:\n",
        "    print(\"The difference between the two models is statistically significant.\")\n",
        "else:\n",
        "    print(\"No statistically significant difference between the two models.\")"
      ]
    },
    {
      "cell_type": "markdown",
      "metadata": {
        "id": "yXFe9qVbqby5"
      },
      "source": [
        "Since the p-value is less than 0.05, we conclude that there is a statistically significant difference between the two models' behaviors when evaluated in the Drama domain. This means that the differences we observe in their predictions are unlikely to be due to random chance. Although both models attempt to classify the dialects within drama texts, their underlying learned patterns and generalization strategies differ enough to produce distinct prediction outcomes. This suggests that the models approach dialectal features in the Drama genre differently, likely influenced by the linguistic characteristics of their respective training domains. In real-world terms, this tells us that the training genre has a meaningful impact on how well the model adapts to the drama domain.\n"
      ]
    },
    {
      "cell_type": "markdown",
      "metadata": {
        "id": "hM0gEzHUltfm"
      },
      "source": [
        "# kids Mcnamer test\n"
      ]
    },
    {
      "cell_type": "code",
      "execution_count": null,
      "metadata": {
        "colab": {
          "base_uri": "https://localhost:8080/"
        },
        "id": "D6sW8yEhMQGA",
        "outputId": "9204145f-ccbd-4528-cd27-3641aed4b364"
      },
      "outputs": [
        {
          "name": "stdout",
          "output_type": "stream",
          "text": [
            "Contingency Table: [[0, np.int64(313)], [np.int64(188), 0]]\n",
            "P-value: 2.5783454862818024e-08\n",
            "The difference between the two models is statistically significant.\n"
          ]
        }
      ],
      "source": [
        "file = \"McNamer_Test_files/test_kid.csv\"\n",
        "\n",
        "result_comedy = perform_mcnemar_test(file, \"kid\", \"comedy\")\n",
        "print(\"Contingency Table:\", result_comedy[\"contingency_table\"])\n",
        "print(\"P-value:\", result_comedy[\"p_value\"])\n",
        "\n",
        "if result_comedy[\"p_value\"] < 0.05:\n",
        "    print(\"The difference between the two models is statistically significant.\")\n",
        "else:\n",
        "    print(\"No statistically significant difference between the two models.\")"
      ]
    },
    {
      "cell_type": "markdown",
      "metadata": {
        "id": "B9896PRWq7zD"
      },
      "source": [
        "Since the p-value is far below 0.05, we again conclude that there is a statistically significant difference between the two models' behaviors when evaluated in the Kid's domain. In this case, the significant disparity between the two models further emphasizes that the genre in which a model is trained can heavily influence its ability to generalize to new types of data, particularly in domains like Kids, where language style and structure are quite distinct."
      ]
    },
    {
      "cell_type": "markdown",
      "metadata": {
        "id": "hkVQloSmq9cP"
      },
      "source": [
        "# Conclusion"
      ]
    },
    {
      "cell_type": "markdown",
      "metadata": {
        "id": "MmzdNKrJrrhc"
      },
      "source": [
        "In this project, our primary objective was to explore how well Arabic dialect classification models could generalize across different domains when trained on a specific category. To achieve this, we conducted cross-domain evaluations by training models on one domain (Comedy, Drama, or Kids) and testing them on the same and different domains. We experimented with two models: Logistic Regression, as a baseline, and BERT, as a more advanced language representation model.\n",
        "\n",
        "Our results showed that both models performed best when trained and tested within the same domain, highlighting the impact of domain-specific characteristics on model performance.\n",
        "\n",
        "- Logistic Regression achieved its highest accuracy of 49.4% when trained and tested on the Kids domain, and accuracies of 40.5% and 42.2% when trained and tested on Comedy and Drama, respectively.\n",
        "- BERT similarly performed best on the Kids domain with an accuracy of 47.2%, and achieved 39.5% and 40.7% on Comedy and Drama, respectively.\n",
        "\n",
        "Cross-domain testing revealed noticeable performance drops, confirming that linguistic differences across domains challenge both simpler and complex models alike.\n",
        "\n",
        "### Statistical Analysis (McNemar’s Test)\n",
        "\n",
        "Further statistical analysis using McNemar’s Test supported these observations:\n",
        "\n",
        "- For Logistic Regression, statistically significant differences were found in all three test categories:\n",
        "  - Comedy (p = 0.007)\n",
        "  - Drama (p = 0.00056)\n",
        "  - Kids (p = 1.5e-10)\n",
        "- For BERT, statistically significant differences appeared in:\n",
        "  - Drama (p < 0.05)\n",
        "  - Kids (p < 0.05)\n",
        "  - No significant difference in Comedy\n",
        "\n",
        "These results reveal that despite their architectural differences, both models struggled with cross-domain generalization. Performance consistently dropped when a model trained on one domain was evaluated on another. However, both models achieved notably better results when working within the Kids domain, suggesting that linguistic simplicity, predictability, and less ambiguous structure significantly aid model learning and transferability.\n",
        "\n",
        "### Observations and Challenges\n",
        "\n",
        "- Domain-specific vocabulary, linguistic complexity, and mislabeling in the dataset were identified as key factors contributing to performance variability.\n",
        "- Mislabeling introduced noise that disrupted the models' ability to learn clean patterns, highlighting the importance of high-quality, accurately labeled data.\n",
        "\n",
        "### Future Work\n",
        "\n",
        "For future improvements, the following steps are recommended:\n",
        "\n",
        "- Use a more consistent and accurately labeled dataset to reduce label noise.\n",
        "- Investigate larger and more diverse pre-trained models fine-tuned specifically for Arabic dialect identification tasks.\n",
        "\n",
        "---\n",
        "\n",
        "Overall, our findings underscore that domain-specific characteristics strongly influence model performance, and tackling domain shifts remains a key challenge in building reliable, real-world NLP systems.\n"
      ]
    },
    {
      "cell_type": "markdown",
      "metadata": {
        "id": "EFO7-hm6q_OE"
      },
      "source": [
        "### Prepared by:\n",
        "<table>\n",
        "  <thead>\n",
        "    <tr>\n",
        "      <th>Student Name</th>\n",
        "      <th>Student ID</th>\n",
        "    </tr>\n",
        "  </thead>\n",
        "  <tbody>\n",
        "    <tr>\n",
        "      <td>Rana Alsayyari</td>\n",
        "      <td>443200565</td>\n",
        "    </tr>\n",
        "    <tr>\n",
        "      <td>Wassayef Alkherb</td>\n",
        "      <td>443200459</td>\n",
        "    </tr>\n",
        "    <tr>\n",
        "      <td>Bashair Alsadhan</td>\n",
        "      <td>443200668</td>\n",
        "    </tr>\n",
        "    <tr>\n",
        "      <td>Rama Alshebel</td>\n",
        "      <td>443200929</td>\n",
        "    </tr>\n",
        "    <tr>\n",
        "      <td>Maryam Altuwaijri</td>\n",
        "      <td>443200235</td>\n",
        "    </tr>\n",
        "  </tbody>\n",
        "</table>\n"
      ]
    }
  ],
  "metadata": {
    "accelerator": "GPU",
    "colab": {
      "gpuType": "A100",
      "provenance": []
    },
    "kernelspec": {
      "display_name": "Python 3",
      "name": "python3"
    },
    "language_info": {
      "codemirror_mode": {
        "name": "ipython",
        "version": 3
      },
      "file_extension": ".py",
      "mimetype": "text/x-python",
      "name": "python",
      "nbconvert_exporter": "python",
      "pygments_lexer": "ipython3",
      "version": "3.13.2"
    }
  },
  "nbformat": 4,
  "nbformat_minor": 0
}
