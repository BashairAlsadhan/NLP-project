{
 "cells": [
  {
   "cell_type": "markdown",
   "metadata": {},
   "source": [
    "# Split Data"
   ]
  },
  {
   "cell_type": "code",
   "execution_count": null,
   "metadata": {},
   "outputs": [],
   "source": [
    "import pandas as pd\n",
    "\n",
    "train = pd.read_csv('dataset/train.csv')\n",
    "valid = pd.read_csv('dataset/valid.csv')\n",
    "test = pd.read_csv('dataset/test.csv')"
   ]
  },
  {
   "cell_type": "code",
   "execution_count": 5,
   "metadata": {},
   "outputs": [],
   "source": [
    "train_x = train[['Category', 'ProcessedText']]\n",
    "train_y = train['SpeakerDialect']\n",
    "\n",
    "valid_x = valid[['Category', 'ProcessedText']]\n",
    "valid_y = valid['SpeakerDialect']\n",
    "\n",
    "\n",
    "test_x = test[['Category', 'ProcessedText']]\n",
    "test_y = test['SpeakerDialect']"
   ]
  },
  {
   "cell_type": "code",
   "execution_count": 8,
   "metadata": {},
   "outputs": [
    {
     "data": {
      "text/html": [
       "<div>\n",
       "<style scoped>\n",
       "    .dataframe tbody tr th:only-of-type {\n",
       "        vertical-align: middle;\n",
       "    }\n",
       "\n",
       "    .dataframe tbody tr th {\n",
       "        vertical-align: top;\n",
       "    }\n",
       "\n",
       "    .dataframe thead th {\n",
       "        text-align: right;\n",
       "    }\n",
       "</style>\n",
       "<table border=\"1\" class=\"dataframe\">\n",
       "  <thead>\n",
       "    <tr style=\"text-align: right;\">\n",
       "      <th></th>\n",
       "      <th>Category</th>\n",
       "      <th>ProcessedText</th>\n",
       "    </tr>\n",
       "  </thead>\n",
       "  <tbody>\n",
       "    <tr>\n",
       "      <th>0</th>\n",
       "      <td>درامي</td>\n",
       "      <td>ووضح كلامك يا مغيث</td>\n",
       "    </tr>\n",
       "    <tr>\n",
       "      <th>1</th>\n",
       "      <td>درامي</td>\n",
       "      <td>ترى راسي ما عاد يتحمل الغازك</td>\n",
       "    </tr>\n",
       "    <tr>\n",
       "      <th>2</th>\n",
       "      <td>درامي</td>\n",
       "      <td>سلامة راسك يا ابو مسامح</td>\n",
       "    </tr>\n",
       "    <tr>\n",
       "      <th>3</th>\n",
       "      <td>درامي</td>\n",
       "      <td>ما يصير يا ابو مسامح تخلي البنت في البيت دون امها</td>\n",
       "    </tr>\n",
       "    <tr>\n",
       "      <th>4</th>\n",
       "      <td>درامي</td>\n",
       "      <td>ويش فيها لقعدت في البيت دون امها ما هو ده بيت ...</td>\n",
       "    </tr>\n",
       "  </tbody>\n",
       "</table>\n",
       "</div>"
      ],
      "text/plain": [
       "  Category                                      ProcessedText\n",
       "0    درامي                                 ووضح كلامك يا مغيث\n",
       "1    درامي                       ترى راسي ما عاد يتحمل الغازك\n",
       "2    درامي                            سلامة راسك يا ابو مسامح\n",
       "3    درامي  ما يصير يا ابو مسامح تخلي البنت في البيت دون امها\n",
       "4    درامي  ويش فيها لقعدت في البيت دون امها ما هو ده بيت ..."
      ]
     },
     "execution_count": 8,
     "metadata": {},
     "output_type": "execute_result"
    }
   ],
   "source": [
    "train_x.head()"
   ]
  }
 ],
 "metadata": {
  "kernelspec": {
   "display_name": "base",
   "language": "python",
   "name": "python3"
  },
  "language_info": {
   "codemirror_mode": {
    "name": "ipython",
    "version": 3
   },
   "file_extension": ".py",
   "mimetype": "text/x-python",
   "name": "python",
   "nbconvert_exporter": "python",
   "pygments_lexer": "ipython3",
   "version": "3.11.4"
  }
 },
 "nbformat": 4,
 "nbformat_minor": 2
}
